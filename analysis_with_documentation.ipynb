{
 "cells": [
  {
   "cell_type": "code",
   "execution_count": 1,
   "metadata": {},
   "outputs": [],
   "source": [
    "import requests\n",
    "import json \n",
    "from bs4 import BeautifulSoup as bs\n",
    "from tqdm import tqdm\n",
    "\n",
    "urls = json.load(open(\"pandas_apis.json\"))\n",
    "data_frame_url = urls[\"df\"]"
   ]
  },
  {
   "cell_type": "code",
   "execution_count": 2,
   "metadata": {},
   "outputs": [
    {
     "name": "stdout",
     "output_type": "stream",
     "text": [
      "https://pandas.pydata.org/docs/reference/frame.html\n"
     ]
    }
   ],
   "source": [
    "print(data_frame_url)"
   ]
  },
  {
   "cell_type": "code",
   "execution_count": 3,
   "metadata": {},
   "outputs": [],
   "source": [
    "import os \n",
    "\n",
    "if not os.path.exists(\"api_details\"):\n",
    "    os.mkdir(\"api_details\")"
   ]
  },
  {
   "cell_type": "code",
   "execution_count": 4,
   "metadata": {},
   "outputs": [
    {
     "name": "stdout",
     "output_type": "stream",
     "text": [
      "1\n"
     ]
    }
   ],
   "source": [
    "import re\n",
    "def get_details_about_apis(which_type_of_url, _url):\n",
    "    invalid_count = 0\n",
    "    page = requests.get(_url)\n",
    "    soup = bs(page.content, 'html.parser')\n",
    "    all_about_apis = []\n",
    "    codes = soup.find_all(\"code\", {\"class\": \"xref py py-obj docutils literal notranslate\"})\n",
    "    for code in codes:\n",
    "        api_name = code.find(\"span\").text\n",
    "        if \".\" in api_name:\n",
    "            api_name = api_name[api_name.index(\".\") + 1:]\n",
    "        documentation = list(code.parent.parent.parent.parent.children)[2].find(\"p\").text\n",
    "        try:\n",
    "            category = code.parent.parent.parent.parent.parent.parent.parent.find(\"h2\").text[:-1]\n",
    "        except:\n",
    "            category = which_type_of_url\n",
    "        if len(api_name.strip()) == 0 or len(documentation.strip()) == 0 or len(category.strip()) == 0:\n",
    "            invalid_count += 1\n",
    "            continue\n",
    "        all_about_apis.append({\n",
    "            \"api\": re.sub(\",\", \" \", str(api_name.encode(\"ascii\", errors=\"ignore\").decode())),\n",
    "            \"doc\": re.sub(\",\", \" \", str(documentation.encode(\"ascii\", errors=\"ignore\").decode())),\n",
    "            \"category\": re.sub(\",\", \" \", str(category.encode(\"ascii\", errors=\"ignore\").decode()))\n",
    "        })\n",
    "    print(invalid_count)\n",
    "    return all_about_apis\n",
    "    \n",
    "all_about_dataframe_apis = get_details_about_apis(\"dataframe\", data_frame_url)\n",
    "fp = open(\"api_details/all_about_dataframe_apis.json\", \"w\")\n",
    "json.dump(all_about_dataframe_apis, fp, indent=4)\n",
    "fp.close()"
   ]
  },
  {
   "cell_type": "code",
   "execution_count": 5,
   "metadata": {},
   "outputs": [
    {
     "name": "stdout",
     "output_type": "stream",
     "text": [
      "2\n",
      "1\n",
      "3\n",
      "1\n",
      "31\n",
      "12\n",
      "2\n"
     ]
    }
   ],
   "source": [
    "all_apis_with_all_details = []\n",
    "for which in urls.keys():\n",
    "    all_apis_with_all_details.extend(get_details_about_apis(which, urls[which]))"
   ]
  },
  {
   "cell_type": "code",
   "execution_count": 6,
   "metadata": {},
   "outputs": [],
   "source": [
    "import csv\n",
    " \n",
    "data_file = open('api_details/data_frame_api_details.csv', 'w')\n",
    "keys = all_about_dataframe_apis[0].keys()\n",
    "data_file.write(\"api,category,doc\\n\")\n",
    "count = 0\n",
    "for data in all_about_dataframe_apis:\n",
    "    data_file.write(data[\"api\"] + \",\" + data[\"category\"] + \",\" + data[\"doc\"] + \"\\n\")\n",
    " \n",
    "data_file.close()"
   ]
  },
  {
   "cell_type": "code",
   "execution_count": 7,
   "metadata": {},
   "outputs": [],
   "source": [
    "import csv\n",
    " \n",
    "data_file = open('api_details/pandas_api_details.csv', 'w')\n",
    "keys = all_apis_with_all_details[0].keys()\n",
    "data_file.write(\"api,category,doc\\n\")\n",
    "count = 0\n",
    "for data in all_apis_with_all_details:\n",
    "    data_file.write(data[\"api\"] + \",\" + data[\"category\"] + \",\" + data[\"doc\"] + \"\\n\")\n",
    " \n",
    "data_file.close()"
   ]
  },
  {
   "cell_type": "code",
   "execution_count": 8,
   "metadata": {},
   "outputs": [
    {
     "name": "stdout",
     "output_type": "stream",
     "text": [
      "659\n"
     ]
    }
   ],
   "source": [
    "taken_answer_dir = \"25_K_Examples\"\n",
    "all_taken_answers = []\n",
    "for part in range(1, 4):\n",
    "    taken_answers = json.load(\n",
    "        open(\n",
    "            os.path.join(\n",
    "                taken_answer_dir, \n",
    "                f\"part-{part}-output/taken_answers_with_all_details.json\"\n",
    "            )\n",
    "        )\n",
    "    )\n",
    "    for answer in taken_answers:\n",
    "        all_taken_answers.append(answer[\"formatted_input\"])\n",
    "\n",
    "print(len(all_taken_answers))\n",
    "    "
   ]
  },
  {
   "cell_type": "code",
   "execution_count": 9,
   "metadata": {},
   "outputs": [
    {
     "name": "stdout",
     "output_type": "stream",
     "text": [
      "[\n",
      "    {\n",
      "        \"api\": \"shape\",\n",
      "        \"doc\": \"Return a tuple representing the dimensionality of the DataFrame.\",\n",
      "        \"category\": \"Attributes and underlying data\"\n",
      "    },\n",
      "    {\n",
      "        \"api\": \"memory_usage\",\n",
      "        \"doc\": \"Return the memory usage of each column in bytes.\",\n",
      "        \"category\": \"Attributes and underlying data\"\n",
      "    }\n",
      "]\n"
     ]
    }
   ],
   "source": [
    "print(json.dumps(all_about_dataframe_apis[10:12], indent=4))\n",
    "taken_apis = []\n",
    "for api_idx, api_obj in enumerate(all_about_dataframe_apis):\n",
    "    api = str(api_obj[\"api\"]) \n",
    "    found = False\n",
    "    for exidx, example in enumerate(all_taken_answers):\n",
    "        code = example[\"answer\"][\"code\"]\n",
    "        for c in code:\n",
    "            if api in c:\n",
    "                found = True\n",
    "                break\n",
    "        if found:\n",
    "            break\n",
    "    if found:\n",
    "        taken_apis.append(api_obj)\n",
    "\n",
    "all_about_dataframe_apis = taken_apis"
   ]
  },
  {
   "cell_type": "code",
   "execution_count": 10,
   "metadata": {},
   "outputs": [],
   "source": [
    "import numpy as np \n",
    "from nltk.corpus import stopwords\n",
    "from nltk.stem import WordNetLemmatizer, PorterStemmer\n",
    "from nltk.tokenize import word_tokenize\n",
    "\n",
    "def remove_punc(data):\n",
    "    symbols = \"!\\\"#$%&()*+-./:;<=>?@[\\]^_`{|}~\\n\"\n",
    "    for i in symbols:\n",
    "        data = np.char.replace(data, i, ' ')\n",
    "    return str(data)\n",
    "\n",
    "def remove_single_char(data):\n",
    "    new_text = \"\"\n",
    "    words = data.split()\n",
    "    for w in words:\n",
    "        if len(w) > 1:\n",
    "           new_text = new_text + \" \" + w\n",
    "    return new_text\n",
    "\n",
    "def remove_stopword(data):\n",
    "    stop_words = stopwords.words(\"english\")\n",
    "    words = data.split()\n",
    "    new_text = \"\"\n",
    "    for word in words:\n",
    "        if word not in stop_words:\n",
    "            new_text = new_text + \" \" + word\n",
    "    return new_text\n",
    "\n",
    "def stem(data):\n",
    "    ps = PorterStemmer()\n",
    "    words = data.split()\n",
    "    new_text = \"\"\n",
    "    for w in words:\n",
    "        new_text += (\" \" + ps.stem(w))\n",
    "    return new_text\n",
    "\n",
    "def lematize(data):\n",
    "    ps = WordNetLemmatizer()\n",
    "    words = data.split()\n",
    "    new_text = \"\"\n",
    "    for w in words:\n",
    "        new_text += (\" \" + ps.lemmatize(w))\n",
    "    return new_text\n",
    "\n",
    "def dataframe(data):\n",
    "    words = data.split()\n",
    "    new_text = \"\"\n",
    "    for word in words:\n",
    "        if word == \"df\" or word == \"dataframe\":\n",
    "            word = \"data frame\"\n",
    "        new_text += (\" \" + word)\n",
    "    return new_text\n",
    "\n",
    "def preprocess(data):\n",
    "    words = word_tokenize(data)\n",
    "    data = \" \".join(words)\n",
    "    data = np.char.lower(data)\n",
    "    data = remove_punc(data)\n",
    "    data = str(np.char.replace(data, \"'\", \"\"))\n",
    "    data = remove_single_char(data)\n",
    "    data = remove_stopword(data)\n",
    "    data = stem(data)\n",
    "    data = lematize(data)\n",
    "    data = dataframe(data)\n",
    "    data = remove_punc(data)\n",
    "    return data\n"
   ]
  },
  {
   "cell_type": "markdown",
   "metadata": {},
   "source": [
    "# Only Title"
   ]
  },
  {
   "cell_type": "code",
   "execution_count": 11,
   "metadata": {},
   "outputs": [
    {
     "name": "stdout",
     "output_type": "stream",
     "text": [
      "(812, 742)\n",
      "(153, 742) (659, 742)\n",
      "(153, 659)\n"
     ]
    }
   ],
   "source": [
    "sentences = []\n",
    "apis = []\n",
    "for point in all_about_dataframe_apis:\n",
    "    sentences.append(preprocess(point[\"doc\"]))\n",
    "    apis.append(point[\"api\"])\n",
    "\n",
    "for answer in all_taken_answers:\n",
    "    ques = answer[\"question\"]\n",
    "    title = ques[\"title\"]\n",
    "    sentences.append(preprocess(title))\n",
    "    pass\n",
    "\n",
    "from sklearn.feature_extraction.text import TfidfVectorizer\n",
    "vectorizer = TfidfVectorizer()\n",
    "X = vectorizer.fit_transform(sentences)\n",
    "print(X.shape)\n",
    "\n",
    "documentation_features = X[:len(all_about_dataframe_apis), :]\n",
    "example_features = X[len(all_about_dataframe_apis):, :]\n",
    "print(documentation_features.shape, example_features.shape)\n",
    "\n",
    "from sklearn.metrics.pairwise import cosine_similarity\n",
    "similarity_results = cosine_similarity(documentation_features, example_features)\n",
    "print(similarity_results.shape)"
   ]
  },
  {
   "cell_type": "markdown",
   "metadata": {},
   "source": [
    "## From example perspective \n",
    "### Total points = len(examples)"
   ]
  },
  {
   "cell_type": "code",
   "execution_count": 12,
   "metadata": {},
   "outputs": [
    {
     "data": {
      "image/png": "[encoded data removed]",
      "text/plain": [
       "<Figure size 1008x216 with 1 Axes>"
      ]
     },
     "metadata": {
      "needs_background": "light"
     },
     "output_type": "display_data"
    },
    {
     "name": "stdout",
     "output_type": "stream",
     "text": [
      "TTest stat :  Ttest_indResult(statistic=11.813956314648433, pvalue=1.2629743093795593e-29)\n",
      "Present Mean   : 0.0483\n",
      "Absent  Mean   : 0.0241\n",
      "Present Median : 0.0343\n",
      "Absent  Median : 0.0233\n"
     ]
    }
   ],
   "source": [
    "overlap_p_ques = []\n",
    "overlap_a_ques = []\n",
    "for exidx, example in enumerate(all_taken_answers):\n",
    "    code = example[\"answer\"][\"code\"]\n",
    "    present_scores, absent_scores = [], []\n",
    "    for api_idx, api in enumerate(apis):\n",
    "        api = str(api)  \n",
    "        found = False\n",
    "        for c in code:\n",
    "            if api in c:\n",
    "                found = True\n",
    "                break\n",
    "        if found:\n",
    "            present_scores.append(similarity_results[api_idx, exidx])\n",
    "        else:\n",
    "            absent_scores.append(similarity_results[api_idx, exidx])\n",
    "    overlap_p_ques.append(\n",
    "        np.mean(present_scores) if len(present_scores) > 0 else 0.0\n",
    "    )\n",
    "    overlap_a_ques.append(\n",
    "        np.mean(absent_scores) if len(absent_scores) > 0 else 0.0,\n",
    "    )\n",
    "\n",
    "import matplotlib.pyplot as plt\n",
    "plt.figure(figsize=(14,3))\n",
    "plt.hist(overlap_p_ques, label=\"Present\", bins=25, histtype=u'step', density=True)\n",
    "plt.hist(overlap_a_ques, label=\"Absent\", bins=25, histtype=u'step', density=True)\n",
    "plt.title(\"Average Similarity\")\n",
    "plt.legend()\n",
    "plt.show()\n",
    "from scipy import stats\n",
    "ttest_result = stats.ttest_ind(overlap_p_ques, overlap_a_ques, equal_var=False)\n",
    "print(\"TTest stat : \", ttest_result)\n",
    "import numpy as np\n",
    "print(\"Present Mean   : %.4lf\" % np.mean(overlap_p_ques))\n",
    "print(\"Absent  Mean   : %.4lf\" % np.mean(overlap_a_ques))\n",
    "print(\"Present Median : %.4lf\" % np.median(overlap_p_ques))\n",
    "print(\"Absent  Median : %.4lf\" % np.median(overlap_a_ques))"
   ]
  },
  {
   "cell_type": "markdown",
   "metadata": {},
   "source": [
    "## From API perspective\n",
    "### Total points = len(apis)"
   ]
  },
  {
   "cell_type": "code",
   "execution_count": 13,
   "metadata": {},
   "outputs": [
    {
     "data": {
      "image/png": "[encoded data removed]",
      "text/plain": [
       "<Figure size 1008x216 with 1 Axes>"
      ]
     },
     "metadata": {
      "needs_background": "light"
     },
     "output_type": "display_data"
    },
    {
     "name": "stdout",
     "output_type": "stream",
     "text": [
      "TTest stat :  Ttest_indResult(statistic=4.211063257734581, pvalue=4.2207504725576144e-05)\n",
      "Present Mean   : 0.0536\n",
      "Absent  Mean   : 0.0244\n",
      "Present Median : 0.0305\n",
      "Absent  Median : 0.0212\n"
     ]
    }
   ],
   "source": [
    "overlap_p_api = []\n",
    "overlap_a_api = []\n",
    "for api_idx, api in enumerate(apis):\n",
    "    api = str(api)  \n",
    "    present_scores, absent_scores = [], []\n",
    "    for exidx, example in enumerate(all_taken_answers):\n",
    "        code = example[\"answer\"][\"code\"]\n",
    "        found = False\n",
    "        for c in code:\n",
    "            if api in c:\n",
    "                found = True\n",
    "                break\n",
    "        if found:\n",
    "            present_scores.append(similarity_results[api_idx, exidx])\n",
    "        else:\n",
    "            absent_scores.append(similarity_results[api_idx, exidx])\n",
    "    overlap_p_api.append(\n",
    "        np.mean(present_scores) if len(present_scores) > 0 else 0.0\n",
    "    )\n",
    "    overlap_a_api.append(\n",
    "        np.mean(absent_scores) if len(absent_scores) > 0 else 0.0,\n",
    "    )\n",
    "\n",
    "import matplotlib.pyplot as plt\n",
    "plt.figure(figsize=(14,3))\n",
    "plt.hist(overlap_p_api, label=\"Present\", bins=25, histtype=u'step', density=True)\n",
    "plt.hist(overlap_a_api, label=\"Absent\", bins=25, histtype=u'step', density=True)\n",
    "plt.title(\"Average Similarity\")\n",
    "plt.legend()\n",
    "plt.show()\n",
    "\n",
    "from scipy import stats\n",
    "ttest_result = stats.ttest_ind(overlap_p_api, overlap_a_api, equal_var=False)\n",
    "print(\"TTest stat : \", ttest_result)\n",
    "import numpy as np\n",
    "print(\"Present Mean   : %.4lf\" % np.mean(overlap_p_api))\n",
    "print(\"Absent  Mean   : %.4lf\" % np.mean(overlap_a_api))\n",
    "print(\"Present Median : %.4lf\" % np.median(overlap_p_api))\n",
    "print(\"Absent  Median : %.4lf\" % np.median(overlap_a_api))"
   ]
  },
  {
   "cell_type": "markdown",
   "metadata": {},
   "source": [
    "## From Both Perspective\n",
    "### Total points = len(examples) * len(apis)"
   ]
  },
  {
   "cell_type": "code",
   "execution_count": 14,
   "metadata": {},
   "outputs": [
    {
     "data": {
      "image/png": "[encoded data removed]",
      "text/plain": [
       "<Figure size 1008x216 with 1 Axes>"
      ]
     },
     "metadata": {
      "needs_background": "light"
     },
     "output_type": "display_data"
    },
    {
     "name": "stdout",
     "output_type": "stream",
     "text": [
      "TTest stat :  Ttest_indResult(statistic=15.691332570522086, pvalue=6.836319412834522e-54)\n",
      "Present Mean   : 0.0434\n",
      "Absent  Mean   : 0.0241\n",
      "Present Median : 0.0171\n",
      "Absent  Median : 0.0000\n"
     ]
    }
   ],
   "source": [
    "overlap_p_both = []\n",
    "overlap_a_both = []\n",
    "for api_idx, api in enumerate(apis):\n",
    "    api = str(api)  \n",
    "    for exidx, example in enumerate(all_taken_answers):\n",
    "        code = example[\"answer\"][\"code\"]\n",
    "        found = False\n",
    "        for c in code:\n",
    "            if api in c:\n",
    "                found = True\n",
    "                break\n",
    "        if found:\n",
    "            overlap_p_both.append(similarity_results[api_idx, exidx])\n",
    "        else:\n",
    "            overlap_a_both.append(similarity_results[api_idx, exidx])\n",
    "\n",
    "import matplotlib.pyplot as plt\n",
    "plt.figure(figsize=(14,3))\n",
    "plt.hist(overlap_p_both, label=\"Present\", bins=25, histtype=u'step', density=True)\n",
    "plt.hist(overlap_a_both, label=\"Absent\", bins=25, histtype=u'step', density=True)\n",
    "plt.title(\"Similarity\")\n",
    "plt.legend()\n",
    "plt.show()\n",
    "\n",
    "\n",
    "from scipy import stats\n",
    "ttest_result = stats.ttest_ind(overlap_p_both, overlap_a_both, equal_var=False)\n",
    "print(\"TTest stat : \", ttest_result)\n",
    "import numpy as np\n",
    "print(\"Present Mean   : %.4lf\" % np.mean(overlap_p_both))\n",
    "print(\"Absent  Mean   : %.4lf\" % np.mean(overlap_a_both))\n",
    "print(\"Present Median : %.4lf\" % np.median(overlap_p_both))\n",
    "print(\"Absent  Median : %.4lf\" % np.median(overlap_a_both))"
   ]
  },
  {
   "cell_type": "markdown",
   "metadata": {},
   "source": [
    "# Title + Desc"
   ]
  },
  {
   "cell_type": "code",
   "execution_count": 15,
   "metadata": {},
   "outputs": [
    {
     "name": "stdout",
     "output_type": "stream",
     "text": [
      "(812, 2297)\n",
      "(153, 2297) (659, 2297)\n",
      "(153, 659)\n"
     ]
    }
   ],
   "source": [
    "sentences = []\n",
    "apis = []\n",
    "for point in all_about_dataframe_apis:\n",
    "    sentences.append(preprocess(point[\"doc\"]))\n",
    "    apis.append(point[\"api\"])\n",
    "\n",
    "for answer in all_taken_answers:\n",
    "    ques = answer[\"question\"]\n",
    "    title = ques[\"title\"]\n",
    "    desc = ques[\"ques_desc\"]\n",
    "    sentences.append(preprocess(title + \" \" + desc))\n",
    "    pass\n",
    "\n",
    "from sklearn.feature_extraction.text import TfidfVectorizer\n",
    "vectorizer = TfidfVectorizer()\n",
    "X = vectorizer.fit_transform(sentences)\n",
    "print(X.shape)\n",
    "\n",
    "documentation_features = X[:len(all_about_dataframe_apis), :]\n",
    "example_features = X[len(all_about_dataframe_apis):, :]\n",
    "print(documentation_features.shape, example_features.shape)\n",
    "\n",
    "from sklearn.metrics.pairwise import cosine_similarity\n",
    "similarity_results = cosine_similarity(documentation_features, example_features)\n",
    "print(similarity_results.shape)\n"
   ]
  },
  {
   "cell_type": "markdown",
   "metadata": {},
   "source": [
    "## From Example perspective"
   ]
  },
  {
   "cell_type": "code",
   "execution_count": 16,
   "metadata": {},
   "outputs": [
    {
     "data": {
      "image/png": "[encoded data removed]",
      "text/plain": [
       "<Figure size 1008x216 with 1 Axes>"
      ]
     },
     "metadata": {
      "needs_background": "light"
     },
     "output_type": "display_data"
    },
    {
     "name": "stdout",
     "output_type": "stream",
     "text": [
      "TTest stat :  Ttest_indResult(statistic=11.676851209809712, pvalue=5.388082713901777e-29)\n",
      "Present Mean   : 0.0474\n",
      "Absent  Mean   : 0.0256\n",
      "Present Median : 0.0370\n",
      "Absent  Median : 0.0245\n"
     ]
    }
   ],
   "source": [
    "overlap_p_ques = []\n",
    "overlap_a_ques = []\n",
    "for exidx, example in enumerate(all_taken_answers):\n",
    "    code = example[\"answer\"][\"code\"]\n",
    "    present_scores, absent_scores = [], []\n",
    "    for api_idx, api in enumerate(apis):\n",
    "        api = str(api)  \n",
    "        found = False\n",
    "        for c in code:\n",
    "            if api in c:\n",
    "                found = True\n",
    "                break\n",
    "        if found:\n",
    "            present_scores.append(similarity_results[api_idx, exidx])\n",
    "        else:\n",
    "            absent_scores.append(similarity_results[api_idx, exidx])\n",
    "    overlap_p_ques.append(\n",
    "        np.mean(present_scores) if len(present_scores) > 0 else 0.0\n",
    "    )\n",
    "    overlap_a_ques.append(\n",
    "        np.mean(absent_scores) if len(absent_scores) > 0 else 0.0,\n",
    "    )\n",
    "\n",
    "import matplotlib.pyplot as plt\n",
    "plt.figure(figsize=(14,3))\n",
    "plt.hist(overlap_p_ques, label=\"Present\", bins=25, histtype=u'step', density=True)\n",
    "plt.hist(overlap_a_ques, label=\"Absent\", bins=25, histtype=u'step', density=True)\n",
    "plt.title(\"Average Similarity\")\n",
    "plt.legend()\n",
    "plt.show()\n",
    "\n",
    "from scipy import stats\n",
    "ttest_result = stats.ttest_ind(overlap_p_ques, overlap_a_ques, equal_var=False)\n",
    "print(\"TTest stat : \", ttest_result)\n",
    "import numpy as np\n",
    "print(\"Present Mean   : %.4lf\" % np.mean(overlap_p_ques))\n",
    "print(\"Absent  Mean   : %.4lf\" % np.mean(overlap_a_ques))\n",
    "print(\"Present Median : %.4lf\" % np.median(overlap_p_ques))\n",
    "print(\"Absent  Median : %.4lf\" % np.median(overlap_a_ques))"
   ]
  },
  {
   "cell_type": "markdown",
   "metadata": {},
   "source": [
    "## From API perspective"
   ]
  },
  {
   "cell_type": "code",
   "execution_count": 17,
   "metadata": {},
   "outputs": [
    {
     "data": {
      "image/png": "[encoded data removed]",
      "text/plain": [
       "<Figure size 1008x216 with 1 Axes>"
      ]
     },
     "metadata": {
      "needs_background": "light"
     },
     "output_type": "display_data"
    },
    {
     "name": "stdout",
     "output_type": "stream",
     "text": [
      "TTest stat :  Ttest_indResult(statistic=4.85611074715498, pvalue=2.807865358851604e-06)\n",
      "Present Mean   : 0.0561\n",
      "Absent  Mean   : 0.0259\n",
      "Present Median : 0.0383\n",
      "Absent  Median : 0.0228\n"
     ]
    }
   ],
   "source": [
    "overlap_p_api = []\n",
    "overlap_a_api = []\n",
    "for api_idx, api in enumerate(apis):\n",
    "    api = str(api)  \n",
    "    present_scores, absent_scores = [], []\n",
    "    for exidx, example in enumerate(all_taken_answers):\n",
    "        code = example[\"answer\"][\"code\"]\n",
    "        found = False\n",
    "        for c in code:\n",
    "            if api in c:\n",
    "                found = True\n",
    "                break\n",
    "        if found:\n",
    "            present_scores.append(similarity_results[api_idx, exidx])\n",
    "        else:\n",
    "            absent_scores.append(similarity_results[api_idx, exidx])\n",
    "    overlap_p_api.append(\n",
    "        np.mean(present_scores) if len(present_scores) > 0 else 0.0\n",
    "    )\n",
    "    overlap_a_api.append(\n",
    "        np.mean(absent_scores) if len(absent_scores) > 0 else 0.0,\n",
    "    )\n",
    "\n",
    "import matplotlib.pyplot as plt\n",
    "plt.figure(figsize=(14,3))\n",
    "plt.hist(overlap_p_api, label=\"Present\", bins=25, histtype=u'step', density=True)\n",
    "plt.hist(overlap_a_api, label=\"Absent\", bins=25, histtype=u'step', density=True)\n",
    "plt.title(\"Average Similarity\")\n",
    "plt.legend()\n",
    "plt.show()\n",
    "\n",
    "from scipy import stats\n",
    "ttest_result = stats.ttest_ind(overlap_p_api, overlap_a_api, equal_var=False)\n",
    "print(\"TTest stat : \", ttest_result)\n",
    "import numpy as np\n",
    "print(\"Present Mean   : %.4lf\" % np.mean(overlap_p_api))\n",
    "print(\"Absent  Mean   : %.4lf\" % np.mean(overlap_a_api))\n",
    "print(\"Present Median : %.4lf\" % np.median(overlap_p_api))\n",
    "print(\"Absent  Median : %.4lf\" % np.median(overlap_a_api))"
   ]
  },
  {
   "cell_type": "markdown",
   "metadata": {},
   "source": [
    "## Both API and Example"
   ]
  },
  {
   "cell_type": "code",
   "execution_count": 18,
   "metadata": {
    "scrolled": true
   },
   "outputs": [
    {
     "data": {
      "image/png": "[encoded data removed]",
      "text/plain": [
       "<Figure size 1008x216 with 1 Axes>"
      ]
     },
     "metadata": {
      "needs_background": "light"
     },
     "output_type": "display_data"
    },
    {
     "name": "stdout",
     "output_type": "stream",
     "text": [
      "TTest stat :  Ttest_indResult(statistic=18.105177528453048, pvalue=1.7759344417025296e-70)\n",
      "Present Mean   : 0.0441\n",
      "Absent  Mean   : 0.0256\n",
      "Present Median : 0.0228\n",
      "Absent  Median : 0.0125\n"
     ]
    }
   ],
   "source": [
    "overlap_p_both = []\n",
    "overlap_a_both = []\n",
    "for api_idx, api in enumerate(apis):\n",
    "    api = str(api)  \n",
    "    for exidx, example in enumerate(all_taken_answers):\n",
    "        code = example[\"answer\"][\"code\"]\n",
    "        found = False\n",
    "        for c in code:\n",
    "            if api in c:\n",
    "                found = True\n",
    "                break\n",
    "        if found:\n",
    "            overlap_p_both.append(similarity_results[api_idx, exidx])\n",
    "        else:\n",
    "            overlap_a_both.append(similarity_results[api_idx, exidx])\n",
    "\n",
    "import matplotlib.pyplot as plt\n",
    "plt.figure(figsize=(14,3))\n",
    "plt.hist(overlap_p_both, label=\"Present\", bins=25, histtype=u'step', density=True)\n",
    "plt.hist(overlap_a_both, label=\"Absent\", bins=25, histtype=u'step', density=True)\n",
    "plt.title(\"Similarity\")\n",
    "plt.legend()\n",
    "plt.show()\n",
    "from scipy import stats\n",
    "ttest_result = stats.ttest_ind(overlap_p_both, overlap_a_both, equal_var=False)\n",
    "print(\"TTest stat : \", ttest_result)\n",
    "import numpy as np\n",
    "print(\"Present Mean   : %.4lf\" % np.mean(overlap_p_both))\n",
    "print(\"Absent  Mean   : %.4lf\" % np.mean(overlap_a_both))\n",
    "print(\"Present Median : %.4lf\" % np.median(overlap_p_both))\n",
    "print(\"Absent  Median : %.4lf\" % np.median(overlap_a_both))"
   ]
  },
  {
   "cell_type": "markdown",
   "metadata": {},
   "source": [
    "# Motivating Example"
   ]
  },
  {
   "cell_type": "code",
   "execution_count": 19,
   "metadata": {},
   "outputs": [
    {
     "name": "stdout",
     "output_type": "stream",
     "text": [
      " python datafram get nan column row tri concat three file one xlsx file abl concat index column get remov datafram use concat function index column three xlsx file 3000 three time approach resolv issu\n"
     ]
    }
   ],
   "source": [
    "tile = \"Pandas index column\"\n",
    "desc = \"\"\"\n",
    "I am trying to concat three files into one xlsx file. I'm able to concat but the index column is not getting removed. My Dataframe after using concat function is having index column of all three xlsx file from 0 to 3000 for three times. How should I approach to resolve the issue?\n",
    "\"\"\"\n",
    "\n",
    "processed_sent = preprocess(title + \" \" + desc)\n",
    "print(processed_sent)"
   ]
  },
  {
   "cell_type": "code",
   "execution_count": 20,
   "metadata": {},
   "outputs": [
    {
     "name": "stdout",
     "output_type": "stream",
     "text": [
      "(1, 2297)\n",
      "[('set_index', 0.13626895208471285), ('index', 0.13066515876685347), ('droplevel', 0.12434958342038938), ('to_csv', 0.11796995204497678), ('transpose', 0.11510700327232007), ('rename_axis', 0.09755051156509764), ('keys', 0.09643143470711027), ('drop_duplicates', 0.09307883339078662), ('filter', 0.09050256602310935), ('iterrows', 0.088593566525098)]\n"
     ]
    }
   ],
   "source": [
    "features = vectorizer.transform([processed_sent])\n",
    "print(features.shape)\n",
    "\n",
    "_ex_similarity_results = cosine_similarity(documentation_features, features)[:, 0].tolist()\n",
    "api_with_scores = [(a, s) for a, s in zip(apis, _ex_similarity_results)]\n",
    "sorted_apis = sorted(api_with_scores, key=lambda x: x[1])[::-1]\n",
    "print(sorted_apis[:10])"
   ]
  },
  {
   "cell_type": "code",
   "execution_count": null,
   "metadata": {},
   "outputs": [],
   "source": []
  }
 ],
 "metadata": {
  "kernelspec": {
   "display_name": "Python 3",
   "language": "python",
   "name": "python3"
  },
  "language_info": {
   "codemirror_mode": {
    "name": "ipython",
    "version": 3
   },
   "file_extension": ".py",
   "mimetype": "text/x-python",
   "name": "python",
   "nbconvert_exporter": "python",
   "pygments_lexer": "ipython3",
   "version": "3.6.12"
  }
 },
 "nbformat": 4,
 "nbformat_minor": 4
}
