{
 "cells": [
  {
   "cell_type": "code",
   "execution_count": 1,
   "metadata": {},
   "outputs": [],
   "source": [
    "import requests\n",
    "import json \n",
    "from bs4 import BeautifulSoup as bs\n",
    "from tqdm import tqdm\n",
    "\n",
    "urls = json.load(open(\"pandas_apis.json\"))\n",
    "data_frame_url = urls[\"df\"]"
   ]
  },
  {
   "cell_type": "code",
   "execution_count": 2,
   "metadata": {},
   "outputs": [
    {
     "name": "stdout",
     "output_type": "stream",
     "text": [
      "https://pandas.pydata.org/docs/reference/frame.html\n"
     ]
    }
   ],
   "source": [
    "print(data_frame_url)"
   ]
  },
  {
   "cell_type": "code",
   "execution_count": 3,
   "metadata": {},
   "outputs": [],
   "source": [
    "import os \n",
    "\n",
    "if not os.path.exists(\"api_details\"):\n",
    "    os.mkdir(\"api_details\")"
   ]
  },
  {
   "cell_type": "code",
   "execution_count": 4,
   "metadata": {},
   "outputs": [
    {
     "name": "stdout",
     "output_type": "stream",
     "text": [
      "1\n"
     ]
    }
   ],
   "source": [
    "import re\n",
    "def get_details_about_apis(which_type_of_url, _url):\n",
    "    invalid_count = 0\n",
    "    page = requests.get(_url)\n",
    "    soup = bs(page.content, 'html.parser')\n",
    "    all_about_apis = []\n",
    "    codes = soup.find_all(\"code\", {\"class\": \"xref py py-obj docutils literal notranslate\"})\n",
    "    for code in codes:\n",
    "        api_name = code.find(\"span\").text\n",
    "        if \".\" in api_name:\n",
    "            api_name = api_name[api_name.index(\".\") + 1:]\n",
    "        documentation = list(code.parent.parent.parent.parent.children)[2].find(\"p\").text\n",
    "        try:\n",
    "            category = code.parent.parent.parent.parent.parent.parent.parent.find(\"h2\").text[:-1]\n",
    "        except:\n",
    "            category = which_type_of_url\n",
    "        if len(api_name.strip()) == 0 or len(documentation.strip()) == 0 or len(category.strip()) == 0:\n",
    "            invalid_count += 1\n",
    "            continue\n",
    "        all_about_apis.append({\n",
    "            \"api\": re.sub(\",\", \" \", str(api_name.encode(\"ascii\", errors=\"ignore\").decode())),\n",
    "            \"doc\": re.sub(\",\", \" \", str(documentation.encode(\"ascii\", errors=\"ignore\").decode())),\n",
    "            \"category\": re.sub(\",\", \" \", str(category.encode(\"ascii\", errors=\"ignore\").decode()))\n",
    "        })\n",
    "    print(invalid_count)\n",
    "    return all_about_apis\n",
    "    \n",
    "all_about_dataframe_apis = get_details_about_apis(\"dataframe\", data_frame_url)\n",
    "fp = open(\"api_details/all_about_dataframe_apis.json\", \"w\")\n",
    "json.dump(all_about_dataframe_apis, fp, indent=4)\n",
    "fp.close()"
   ]
  },
  {
   "cell_type": "code",
   "execution_count": 5,
   "metadata": {},
   "outputs": [
    {
     "name": "stdout",
     "output_type": "stream",
     "text": [
      "2\n",
      "1\n",
      "3\n",
      "1\n",
      "31\n",
      "12\n",
      "2\n"
     ]
    }
   ],
   "source": [
    "all_apis_with_all_details = []\n",
    "for which in urls.keys():\n",
    "    all_apis_with_all_details.extend(get_details_about_apis(which, urls[which]))"
   ]
  },
  {
   "cell_type": "code",
   "execution_count": 6,
   "metadata": {},
   "outputs": [],
   "source": [
    "import csv\n",
    " \n",
    "data_file = open('api_details/data_frame_api_details.csv', 'w')\n",
    "keys = all_about_dataframe_apis[0].keys()\n",
    "data_file.write(\"api,category,doc\\n\")\n",
    "count = 0\n",
    "for data in all_about_dataframe_apis:\n",
    "    data_file.write(data[\"api\"] + \",\" + data[\"category\"] + \",\" + data[\"doc\"] + \"\\n\")\n",
    " \n",
    "data_file.close()"
   ]
  },
  {
   "cell_type": "code",
   "execution_count": 7,
   "metadata": {},
   "outputs": [],
   "source": [
    "import csv\n",
    " \n",
    "data_file = open('api_details/pandas_api_details.csv', 'w')\n",
    "keys = all_apis_with_all_details[0].keys()\n",
    "data_file.write(\"api,category,doc\\n\")\n",
    "count = 0\n",
    "for data in all_apis_with_all_details:\n",
    "    data_file.write(data[\"api\"] + \",\" + data[\"category\"] + \",\" + data[\"doc\"] + \"\\n\")\n",
    " \n",
    "data_file.close()"
   ]
  },
  {
   "cell_type": "code",
   "execution_count": 8,
   "metadata": {},
   "outputs": [
    {
     "name": "stdout",
     "output_type": "stream",
     "text": [
      "659\n",
      "[\n",
      "    {\n",
      "        \"api\": \"shape\",\n",
      "        \"doc\": \"Return a tuple representing the dimensionality of the DataFrame.\",\n",
      "        \"category\": \"Attributes and underlying data\"\n",
      "    },\n",
      "    {\n",
      "        \"api\": \"memory_usage\",\n",
      "        \"doc\": \"Return the memory usage of each column in bytes.\",\n",
      "        \"category\": \"Attributes and underlying data\"\n",
      "    }\n",
      "]\n",
      "619\n",
      "142\n",
      "[\n",
      "    \"any astype cumsum div groupby mask ne shift sub\",\n",
      "    \"attrs div\",\n",
      "    \"eq where\",\n",
      "    \"astype bool columns cumsum loc lt mask select_dtypes shift\",\n",
      "    \"DataFrame columns isin loc\",\n",
      "    \"DataFrame insert\",\n",
      "    \"add all astype drop dropna groupby index mean reset_index rolling\",\n",
      "    \"groupby\",\n",
      "    \"agg apply values\",\n",
      "    \"columns drop melt\",\n",
      "    \"iloc\",\n",
      "    \"apply groupby\",\n",
      "    \"any clip groupby index mean reindex shape stack std\",\n",
      "    \"DataFrame to_period\",\n",
      "    \"set_index squeeze unstack update\",\n",
      "    \"astype columns drop duplicated groupby loc max where\",\n",
      "    \"columns drop dropna melt reset_index sort_values\",\n",
      "    \"bool\",\n",
      "    \"apply drop drop_duplicates groupby index items join last to_excel\",\n",
      "    \"reset_index set_index update\",\n",
      "    \"iloc nunique where\",\n",
      "    \"groupby to_csv\",\n",
      "    \"drop_duplicates\",\n",
      "    \"cumsum eq loc mask notna\",\n",
      "    \"all apply columns drop dropna fillna first_valid_index index reset_index shift\",\n",
      "    \"explode\",\n",
      "    \"columns drop dropna index iteritems loc set_index squeeze stack\",\n",
      "    \"agg groupby rolling sort_index sort_values\",\n",
      "    \"groupby\",\n",
      "    \"apply columns rename\",\n",
      "    \"sort_values\",\n",
      "    \"DataFrame apply loc\",\n",
      "    \"copy\",\n",
      "    \"all astype columns ge loc replace\",\n",
      "    \"append columns droplevel join set_axis set_index swaplevel unstack\",\n",
      "    \"DataFrame items\",\n",
      "    \"apply\",\n",
      "    \"assign columns count index pivot_table values\",\n",
      "    \"applymap assign\",\n",
      "    \"DataFrame assign\",\n",
      "    \"replace\",\n",
      "    \"apply fillna set_axis\",\n",
      "    \"DataFrame columns\",\n",
      "    \"replace\",\n",
      "    \"apply astype diff explode idxmax iloc index loc mask where\",\n",
      "    \"apply\",\n",
      "    \"abs add sub sum\",\n",
      "    \"replace\",\n",
      "    \"columns fillna index max pivot_table values\",\n",
      "    \"compare iterrows\"\n",
      "]\n"
     ]
    }
   ],
   "source": [
    "import nltk\n",
    "taken_answer_dir = \"25_K_Examples\"\n",
    "all_taken_answers = []\n",
    "for part in range(1, 4):\n",
    "    taken_answers = json.load(\n",
    "        open(\n",
    "            os.path.join(\n",
    "                taken_answer_dir, \n",
    "                f\"part-{part}-output/taken_answers_with_all_details.json\"\n",
    "            )\n",
    "        )\n",
    "    )\n",
    "    for answer in taken_answers:\n",
    "        all_taken_answers.append(answer[\"formatted_input\"])\n",
    "\n",
    "print(len(all_taken_answers))\n",
    "\n",
    "print(json.dumps(all_about_dataframe_apis[10:12], indent=4))\n",
    "\n",
    "\n",
    "def token_in_api_data(token):\n",
    "    for api_idx, api_obj in enumerate(all_about_dataframe_apis):\n",
    "        api = str(api_obj[\"api\"]).strip()\n",
    "        if token.strip() == api:\n",
    "            return api_idx\n",
    "    return None\n",
    "        \n",
    "taken_examples = []\n",
    "taken_apis = set()\n",
    "for exidx, example in enumerate(all_taken_answers):\n",
    "    code = example[\"answer\"][\"code\"]\n",
    "    example[\"answer\"][\"api_seq\"] = set()\n",
    "    for c in code:\n",
    "        tokens = nltk.wordpunct_tokenize(c)\n",
    "        for t in tokens:\n",
    "            api_idx = token_in_api_data(t)\n",
    "            if api_idx is not None:\n",
    "                example[\"answer\"][\"api_seq\"].add(str(all_about_dataframe_apis[api_idx][\"api\"]))\n",
    "                taken_apis.add(api_idx)\n",
    "    if len(example[\"answer\"][\"api_seq\"]) > 0:\n",
    "        taken_examples.append(example)\n",
    "\n",
    "all_taken_answers = taken_examples\n",
    "print(len(all_taken_answers))\n",
    "\n",
    "all_about_dataframe_apis = [all_about_dataframe_apis[idx] for idx in taken_apis]\n",
    "print(len(all_about_dataframe_apis))\n",
    "print(json.dumps(\n",
    "    [\" \".join(sorted(list(example[\"answer\"][\"api_seq\"]))) for example in all_taken_answers[:50]], indent=4))\n",
    "    "
   ]
  },
  {
   "cell_type": "code",
   "execution_count": 9,
   "metadata": {},
   "outputs": [],
   "source": [
    "import numpy as np \n",
    "from nltk.corpus import stopwords\n",
    "from nltk.stem import WordNetLemmatizer, PorterStemmer\n",
    "from nltk.tokenize import word_tokenize\n",
    "\n",
    "def remove_punc(data):\n",
    "    symbols = \"!\\\"#$%&()*+-./:;<=>?@[\\]^_`{|}~\\n\"\n",
    "    for i in symbols:\n",
    "        data = np.char.replace(data, i, ' ')\n",
    "    return str(data)\n",
    "\n",
    "def remove_single_char(data):\n",
    "    new_text = \"\"\n",
    "    words = data.split()\n",
    "    for w in words:\n",
    "        if len(w) > 1:\n",
    "           new_text = new_text + \" \" + w\n",
    "    return new_text\n",
    "\n",
    "def remove_stopword(data):\n",
    "    stop_words = stopwords.words(\"english\")\n",
    "    words = data.split()\n",
    "    new_text = \"\"\n",
    "    for word in words:\n",
    "        if word not in stop_words:\n",
    "            new_text = new_text + \" \" + word\n",
    "    return new_text\n",
    "\n",
    "def stem(data):\n",
    "    ps = PorterStemmer()\n",
    "    words = data.split()\n",
    "    new_text = \"\"\n",
    "    for w in words:\n",
    "        new_text += (\" \" + ps.stem(w))\n",
    "    return new_text\n",
    "\n",
    "def lematize(data):\n",
    "    ps = WordNetLemmatizer()\n",
    "    words = data.split()\n",
    "    new_text = \"\"\n",
    "    for w in words:\n",
    "        new_text += (\" \" + ps.lemmatize(w))\n",
    "    return new_text\n",
    "\n",
    "def dataframe(data):\n",
    "    words = data.split()\n",
    "    new_text = \"\"\n",
    "    for word in words:\n",
    "        if word == \"df\" or word == \"dataframe\":\n",
    "            word = \"data frame\"\n",
    "        new_text += (\" \" + word)\n",
    "    return new_text\n",
    "\n",
    "def preprocess(data):\n",
    "    words = word_tokenize(data)\n",
    "    data = \" \".join(words)\n",
    "    data = np.char.lower(data)\n",
    "    data = remove_punc(data)\n",
    "    data = str(np.char.replace(data, \"'\", \"\"))\n",
    "    data = remove_single_char(data)\n",
    "    data = remove_stopword(data)\n",
    "    data = stem(data)\n",
    "    data = lematize(data)\n",
    "    data = dataframe(data)\n",
    "    data = remove_punc(data)\n",
    "    return data\n"
   ]
  },
  {
   "cell_type": "markdown",
   "metadata": {},
   "source": [
    "# Only Title"
   ]
  },
  {
   "cell_type": "code",
   "execution_count": 10,
   "metadata": {},
   "outputs": [
    {
     "name": "stdout",
     "output_type": "stream",
     "text": [
      "(761, 707)\n",
      "(142, 707) (619, 707)\n",
      "(142, 619)\n"
     ]
    }
   ],
   "source": [
    "sentences = []\n",
    "apis = []\n",
    "for point in all_about_dataframe_apis:\n",
    "    sentences.append(preprocess(point[\"doc\"]))\n",
    "    apis.append(point[\"api\"])\n",
    "\n",
    "for answer in all_taken_answers:\n",
    "    ques = answer[\"question\"]\n",
    "    title = ques[\"title\"]\n",
    "    sentences.append(preprocess(title))\n",
    "    pass\n",
    "\n",
    "from sklearn.feature_extraction.text import TfidfVectorizer\n",
    "vectorizer = TfidfVectorizer()\n",
    "X = vectorizer.fit_transform(sentences)\n",
    "print(X.shape)\n",
    "\n",
    "documentation_features = X[:len(all_about_dataframe_apis), :]\n",
    "example_features = X[len(all_about_dataframe_apis):, :]\n",
    "print(documentation_features.shape, example_features.shape)\n",
    "\n",
    "from sklearn.metrics.pairwise import cosine_similarity\n",
    "similarity_results = cosine_similarity(documentation_features, example_features)\n",
    "print(similarity_results.shape)"
   ]
  },
  {
   "cell_type": "markdown",
   "metadata": {},
   "source": [
    "## From example perspective \n",
    "### Total points = len(examples)"
   ]
  },
  {
   "cell_type": "code",
   "execution_count": 12,
   "metadata": {},
   "outputs": [
    {
     "name": "stdout",
     "output_type": "stream",
     "text": [
      "Collecting matplotlib\n",
      "  Using cached matplotlib-3.3.4-cp36-cp36m-manylinux1_x86_64.whl (11.5 MB)\n",
      "Requirement already satisfied: pyparsing!=2.0.4,!=2.1.2,!=2.1.6,>=2.0.3 in /home/saikatc/anaconda2/envs/fairseq-wasi/lib/python3.6/site-packages (from matplotlib) (2.4.7)\n",
      "Requirement already satisfied: python-dateutil>=2.1 in /home/saikatc/anaconda2/envs/fairseq-wasi/lib/python3.6/site-packages (from matplotlib) (2.8.1)\n",
      "Requirement already satisfied: pillow>=6.2.0 in /home/saikatc/anaconda2/envs/fairseq-wasi/lib/python3.6/site-packages (from matplotlib) (8.0.1)\n",
      "Requirement already satisfied: numpy>=1.15 in /home/saikatc/anaconda2/envs/fairseq-wasi/lib/python3.6/site-packages (from matplotlib) (1.19.2)\n",
      "Collecting cycler>=0.10\n",
      "  Using cached cycler-0.10.0-py2.py3-none-any.whl (6.5 kB)\n",
      "Requirement already satisfied: six in /home/saikatc/anaconda2/envs/fairseq-wasi/lib/python3.6/site-packages (from cycler>=0.10->matplotlib) (1.15.0)\n",
      "Collecting kiwisolver>=1.0.1\n",
      "  Using cached kiwisolver-1.3.1-cp36-cp36m-manylinux1_x86_64.whl (1.1 MB)\n",
      "Installing collected packages: kiwisolver, cycler, matplotlib\n",
      "Successfully installed cycler-0.10.0 kiwisolver-1.3.1 matplotlib-3.3.4\n"
     ]
    }
   ],
   "source": [
    "!pip install matplotlib"
   ]
  },
  {
   "cell_type": "code",
   "execution_count": 13,
   "metadata": {},
   "outputs": [
    {
     "data": {
      "image/png": "[encoded data removed]",
      "text/plain": [
       "<Figure size 1008x216 with 1 Axes>"
      ]
     },
     "metadata": {
      "needs_background": "light"
     },
     "output_type": "display_data"
    },
    {
     "name": "stdout",
     "output_type": "stream",
     "text": [
      "TTest stat :  Ttest_indResult(statistic=11.965012007504335, pvalue=3.928890964310584e-30)\n",
      "Present Mean   : 0.0499\n",
      "Absent  Mean   : 0.0245\n",
      "Present Median : 0.0357\n",
      "Absent  Median : 0.0235\n"
     ]
    }
   ],
   "source": [
    "overlap_p_ques = []\n",
    "overlap_a_ques = []\n",
    "for exidx, example in enumerate(all_taken_answers):\n",
    "    code = example[\"answer\"][\"code\"]\n",
    "    present_scores, absent_scores = [], []\n",
    "    for api_idx, api in enumerate(apis):\n",
    "        api = str(api)  \n",
    "        found = False\n",
    "        for c in code:\n",
    "            if api in c:\n",
    "                found = True\n",
    "                break\n",
    "        if found:\n",
    "            present_scores.append(similarity_results[api_idx, exidx])\n",
    "        else:\n",
    "            absent_scores.append(similarity_results[api_idx, exidx])\n",
    "    overlap_p_ques.append(\n",
    "        np.mean(present_scores) if len(present_scores) > 0 else 0.0\n",
    "    )\n",
    "    overlap_a_ques.append(\n",
    "        np.mean(absent_scores) if len(absent_scores) > 0 else 0.0,\n",
    "    )\n",
    "\n",
    "import matplotlib.pyplot as plt\n",
    "plt.figure(figsize=(14,3))\n",
    "plt.hist(overlap_p_ques, label=\"Present\", bins=25, histtype=u'step', density=True)\n",
    "plt.hist(overlap_a_ques, label=\"Absent\", bins=25, histtype=u'step', density=True)\n",
    "plt.title(\"Average Similarity\")\n",
    "plt.legend()\n",
    "plt.show()\n",
    "from scipy import stats\n",
    "ttest_result = stats.ttest_ind(overlap_p_ques, overlap_a_ques, equal_var=False)\n",
    "print(\"TTest stat : \", ttest_result)\n",
    "import numpy as np\n",
    "print(\"Present Mean   : %.4lf\" % np.mean(overlap_p_ques))\n",
    "print(\"Absent  Mean   : %.4lf\" % np.mean(overlap_a_ques))\n",
    "print(\"Present Median : %.4lf\" % np.median(overlap_p_ques))\n",
    "print(\"Absent  Median : %.4lf\" % np.median(overlap_a_ques))"
   ]
  },
  {
   "cell_type": "markdown",
   "metadata": {},
   "source": [
    "## From API perspective\n",
    "### Total points = len(apis)"
   ]
  },
  {
   "cell_type": "code",
   "execution_count": 14,
   "metadata": {},
   "outputs": [
    {
     "data": {
      "image/png": "[encoded data removed]",
      "text/plain": [
       "<Figure size 1008x216 with 1 Axes>"
      ]
     },
     "metadata": {
      "needs_background": "light"
     },
     "output_type": "display_data"
    },
    {
     "name": "stdout",
     "output_type": "stream",
     "text": [
      "TTest stat :  Ttest_indResult(statistic=4.226880581905975, pvalue=4.1112679398158726e-05)\n",
      "Present Mean   : 0.0561\n",
      "Absent  Mean   : 0.0249\n",
      "Present Median : 0.0335\n",
      "Absent  Median : 0.0214\n"
     ]
    }
   ],
   "source": [
    "overlap_p_api = []\n",
    "overlap_a_api = []\n",
    "for api_idx, api in enumerate(apis):\n",
    "    api = str(api)  \n",
    "    present_scores, absent_scores = [], []\n",
    "    for exidx, example in enumerate(all_taken_answers):\n",
    "        code = example[\"answer\"][\"code\"]\n",
    "        found = False\n",
    "        for c in code:\n",
    "            if api in c:\n",
    "                found = True\n",
    "                break\n",
    "        if found:\n",
    "            present_scores.append(similarity_results[api_idx, exidx])\n",
    "        else:\n",
    "            absent_scores.append(similarity_results[api_idx, exidx])\n",
    "    overlap_p_api.append(\n",
    "        np.mean(present_scores) if len(present_scores) > 0 else 0.0\n",
    "    )\n",
    "    overlap_a_api.append(\n",
    "        np.mean(absent_scores) if len(absent_scores) > 0 else 0.0,\n",
    "    )\n",
    "\n",
    "import matplotlib.pyplot as plt\n",
    "plt.figure(figsize=(14,3))\n",
    "plt.hist(overlap_p_api, label=\"Present\", bins=25, histtype=u'step', density=True)\n",
    "plt.hist(overlap_a_api, label=\"Absent\", bins=25, histtype=u'step', density=True)\n",
    "plt.title(\"Average Similarity\")\n",
    "plt.legend()\n",
    "plt.show()\n",
    "\n",
    "from scipy import stats\n",
    "ttest_result = stats.ttest_ind(overlap_p_api, overlap_a_api, equal_var=False)\n",
    "print(\"TTest stat : \", ttest_result)\n",
    "import numpy as np\n",
    "print(\"Present Mean   : %.4lf\" % np.mean(overlap_p_api))\n",
    "print(\"Absent  Mean   : %.4lf\" % np.mean(overlap_a_api))\n",
    "print(\"Present Median : %.4lf\" % np.median(overlap_p_api))\n",
    "print(\"Absent  Median : %.4lf\" % np.median(overlap_a_api))"
   ]
  },
  {
   "cell_type": "markdown",
   "metadata": {},
   "source": [
    "## From Both Perspective\n",
    "### Total points = len(examples) * len(apis)"
   ]
  },
  {
   "cell_type": "code",
   "execution_count": 15,
   "metadata": {},
   "outputs": [
    {
     "data": {
      "image/png": "[encoded data removed]",
      "text/plain": [
       "<Figure size 1008x216 with 1 Axes>"
      ]
     },
     "metadata": {
      "needs_background": "light"
     },
     "output_type": "display_data"
    },
    {
     "name": "stdout",
     "output_type": "stream",
     "text": [
      "TTest stat :  Ttest_indResult(statistic=15.380415398638172, pvalue=7.185285292939048e-52)\n",
      "Present Mean   : 0.0439\n",
      "Absent  Mean   : 0.0246\n",
      "Present Median : 0.0175\n",
      "Absent  Median : 0.0000\n"
     ]
    }
   ],
   "source": [
    "overlap_p_both = []\n",
    "overlap_a_both = []\n",
    "for api_idx, api in enumerate(apis):\n",
    "    api = str(api)  \n",
    "    for exidx, example in enumerate(all_taken_answers):\n",
    "        code = example[\"answer\"][\"code\"]\n",
    "        found = False\n",
    "        for c in code:\n",
    "            if api in c:\n",
    "                found = True\n",
    "                break\n",
    "        if found:\n",
    "            overlap_p_both.append(similarity_results[api_idx, exidx])\n",
    "        else:\n",
    "            overlap_a_both.append(similarity_results[api_idx, exidx])\n",
    "\n",
    "import matplotlib.pyplot as plt\n",
    "plt.figure(figsize=(14,3))\n",
    "plt.hist(overlap_p_both, label=\"Present\", bins=25, histtype=u'step', density=True)\n",
    "plt.hist(overlap_a_both, label=\"Absent\", bins=25, histtype=u'step', density=True)\n",
    "plt.title(\"Similarity\")\n",
    "plt.legend()\n",
    "plt.show()\n",
    "\n",
    "\n",
    "from scipy import stats\n",
    "ttest_result = stats.ttest_ind(overlap_p_both, overlap_a_both, equal_var=False)\n",
    "print(\"TTest stat : \", ttest_result)\n",
    "import numpy as np\n",
    "print(\"Present Mean   : %.4lf\" % np.mean(overlap_p_both))\n",
    "print(\"Absent  Mean   : %.4lf\" % np.mean(overlap_a_both))\n",
    "print(\"Present Median : %.4lf\" % np.median(overlap_p_both))\n",
    "print(\"Absent  Median : %.4lf\" % np.median(overlap_a_both))"
   ]
  },
  {
   "cell_type": "markdown",
   "metadata": {},
   "source": [
    "# Title + Desc"
   ]
  },
  {
   "cell_type": "code",
   "execution_count": 16,
   "metadata": {},
   "outputs": [
    {
     "name": "stdout",
     "output_type": "stream",
     "text": [
      "(761, 2208)\n",
      "(142, 2208) (619, 2208)\n",
      "(142, 619)\n"
     ]
    }
   ],
   "source": [
    "sentences = []\n",
    "apis = []\n",
    "for point in all_about_dataframe_apis:\n",
    "    sentences.append(preprocess(point[\"doc\"]))\n",
    "    apis.append(point[\"api\"])\n",
    "\n",
    "for answer in all_taken_answers:\n",
    "    ques = answer[\"question\"]\n",
    "    title = ques[\"title\"]\n",
    "    desc = ques[\"ques_desc\"]\n",
    "    sentences.append(preprocess(title + \" \" + desc))\n",
    "    pass\n",
    "\n",
    "from sklearn.feature_extraction.text import TfidfVectorizer\n",
    "vectorizer = TfidfVectorizer()\n",
    "X = vectorizer.fit_transform(sentences)\n",
    "print(X.shape)\n",
    "\n",
    "documentation_features = X[:len(all_about_dataframe_apis), :]\n",
    "example_features = X[len(all_about_dataframe_apis):, :]\n",
    "print(documentation_features.shape, example_features.shape)\n",
    "\n",
    "from sklearn.metrics.pairwise import cosine_similarity\n",
    "similarity_results = cosine_similarity(documentation_features, example_features)\n",
    "print(similarity_results.shape)\n"
   ]
  },
  {
   "cell_type": "markdown",
   "metadata": {},
   "source": [
    "## From Example perspective"
   ]
  },
  {
   "cell_type": "code",
   "execution_count": 17,
   "metadata": {},
   "outputs": [
    {
     "data": {
      "image/png": "[encoded data removed]",
      "text/plain": [
       "<Figure size 1008x216 with 1 Axes>"
      ]
     },
     "metadata": {
      "needs_background": "light"
     },
     "output_type": "display_data"
    },
    {
     "name": "stdout",
     "output_type": "stream",
     "text": [
      "TTest stat :  Ttest_indResult(statistic=12.053953197466535, pvalue=1.829277151622194e-30)\n",
      "Present Mean   : 0.0491\n",
      "Absent  Mean   : 0.0258\n",
      "Present Median : 0.0389\n",
      "Absent  Median : 0.0249\n"
     ]
    }
   ],
   "source": [
    "overlap_p_ques = []\n",
    "overlap_a_ques = []\n",
    "for exidx, example in enumerate(all_taken_answers):\n",
    "    code = example[\"answer\"][\"code\"]\n",
    "    present_scores, absent_scores = [], []\n",
    "    for api_idx, api in enumerate(apis):\n",
    "        api = str(api)  \n",
    "        found = False\n",
    "        for c in code:\n",
    "            if api in c:\n",
    "                found = True\n",
    "                break\n",
    "        if found:\n",
    "            present_scores.append(similarity_results[api_idx, exidx])\n",
    "        else:\n",
    "            absent_scores.append(similarity_results[api_idx, exidx])\n",
    "    overlap_p_ques.append(\n",
    "        np.mean(present_scores) if len(present_scores) > 0 else 0.0\n",
    "    )\n",
    "    overlap_a_ques.append(\n",
    "        np.mean(absent_scores) if len(absent_scores) > 0 else 0.0,\n",
    "    )\n",
    "\n",
    "import matplotlib.pyplot as plt\n",
    "plt.figure(figsize=(14,3))\n",
    "plt.hist(overlap_p_ques, label=\"Present\", bins=25, histtype=u'step', density=True)\n",
    "plt.hist(overlap_a_ques, label=\"Absent\", bins=25, histtype=u'step', density=True)\n",
    "plt.title(\"Average Similarity\")\n",
    "plt.legend()\n",
    "plt.show()\n",
    "\n",
    "from scipy import stats\n",
    "ttest_result = stats.ttest_ind(overlap_p_ques, overlap_a_ques, equal_var=False)\n",
    "print(\"TTest stat : \", ttest_result)\n",
    "import numpy as np\n",
    "print(\"Present Mean   : %.4lf\" % np.mean(overlap_p_ques))\n",
    "print(\"Absent  Mean   : %.4lf\" % np.mean(overlap_a_ques))\n",
    "print(\"Present Median : %.4lf\" % np.median(overlap_p_ques))\n",
    "print(\"Absent  Median : %.4lf\" % np.median(overlap_a_ques))"
   ]
  },
  {
   "cell_type": "markdown",
   "metadata": {},
   "source": [
    "## From API perspective"
   ]
  },
  {
   "cell_type": "code",
   "execution_count": 18,
   "metadata": {},
   "outputs": [
    {
     "data": {
      "image/png": "[encoded data removed]",
      "text/plain": [
       "<Figure size 1008x216 with 1 Axes>"
      ]
     },
     "metadata": {
      "needs_background": "light"
     },
     "output_type": "display_data"
    },
    {
     "name": "stdout",
     "output_type": "stream",
     "text": [
      "TTest stat :  Ttest_indResult(statistic=4.82378157833358, pvalue=3.4368818922924526e-06)\n",
      "Present Mean   : 0.0580\n",
      "Absent  Mean   : 0.0261\n",
      "Present Median : 0.0398\n",
      "Absent  Median : 0.0226\n"
     ]
    }
   ],
   "source": [
    "overlap_p_api = []\n",
    "overlap_a_api = []\n",
    "for api_idx, api in enumerate(apis):\n",
    "    api = str(api)  \n",
    "    present_scores, absent_scores = [], []\n",
    "    for exidx, example in enumerate(all_taken_answers):\n",
    "        code = example[\"answer\"][\"code\"]\n",
    "        found = False\n",
    "        for c in code:\n",
    "            if api in c:\n",
    "                found = True\n",
    "                break\n",
    "        if found:\n",
    "            present_scores.append(similarity_results[api_idx, exidx])\n",
    "        else:\n",
    "            absent_scores.append(similarity_results[api_idx, exidx])\n",
    "    overlap_p_api.append(\n",
    "        np.mean(present_scores) if len(present_scores) > 0 else 0.0\n",
    "    )\n",
    "    overlap_a_api.append(\n",
    "        np.mean(absent_scores) if len(absent_scores) > 0 else 0.0,\n",
    "    )\n",
    "\n",
    "import matplotlib.pyplot as plt\n",
    "plt.figure(figsize=(14,3))\n",
    "plt.hist(overlap_p_api, label=\"Present\", bins=25, histtype=u'step', density=True)\n",
    "plt.hist(overlap_a_api, label=\"Absent\", bins=25, histtype=u'step', density=True)\n",
    "plt.title(\"Average Similarity\")\n",
    "plt.legend()\n",
    "plt.show()\n",
    "\n",
    "from scipy import stats\n",
    "ttest_result = stats.ttest_ind(overlap_p_api, overlap_a_api, equal_var=False)\n",
    "print(\"TTest stat : \", ttest_result)\n",
    "import numpy as np\n",
    "print(\"Present Mean   : %.4lf\" % np.mean(overlap_p_api))\n",
    "print(\"Absent  Mean   : %.4lf\" % np.mean(overlap_a_api))\n",
    "print(\"Present Median : %.4lf\" % np.median(overlap_p_api))\n",
    "print(\"Absent  Median : %.4lf\" % np.median(overlap_a_api))"
   ]
  },
  {
   "cell_type": "markdown",
   "metadata": {},
   "source": [
    "## Both API and Example"
   ]
  },
  {
   "cell_type": "code",
   "execution_count": 19,
   "metadata": {
    "scrolled": true
   },
   "outputs": [
    {
     "data": {
      "image/png": "[encoded data removed]",
      "text/plain": [
       "<Figure size 1008x216 with 1 Axes>"
      ]
     },
     "metadata": {
      "needs_background": "light"
     },
     "output_type": "display_data"
    },
    {
     "name": "stdout",
     "output_type": "stream",
     "text": [
      "TTest stat :  Ttest_indResult(statistic=17.90609690413063, pvalue=5.721271092675435e-69)\n",
      "Present Mean   : 0.0444\n",
      "Absent  Mean   : 0.0258\n",
      "Present Median : 0.0233\n",
      "Absent  Median : 0.0127\n"
     ]
    }
   ],
   "source": [
    "overlap_p_both = []\n",
    "overlap_a_both = []\n",
    "for api_idx, api in enumerate(apis):\n",
    "    api = str(api)  \n",
    "    for exidx, example in enumerate(all_taken_answers):\n",
    "        code = example[\"answer\"][\"code\"]\n",
    "        found = False\n",
    "        for c in code:\n",
    "            if api in c:\n",
    "                found = True\n",
    "                break\n",
    "        if found:\n",
    "            overlap_p_both.append(similarity_results[api_idx, exidx])\n",
    "        else:\n",
    "            overlap_a_both.append(similarity_results[api_idx, exidx])\n",
    "\n",
    "import matplotlib.pyplot as plt\n",
    "plt.figure(figsize=(14,3))\n",
    "plt.hist(overlap_p_both, label=\"Present\", bins=25, histtype=u'step', density=True)\n",
    "plt.hist(overlap_a_both, label=\"Absent\", bins=25, histtype=u'step', density=True)\n",
    "plt.title(\"Similarity\")\n",
    "plt.legend()\n",
    "plt.show()\n",
    "from scipy import stats\n",
    "ttest_result = stats.ttest_ind(overlap_p_both, overlap_a_both, equal_var=False)\n",
    "print(\"TTest stat : \", ttest_result)\n",
    "import numpy as np\n",
    "print(\"Present Mean   : %.4lf\" % np.mean(overlap_p_both))\n",
    "print(\"Absent  Mean   : %.4lf\" % np.mean(overlap_a_both))\n",
    "print(\"Present Median : %.4lf\" % np.median(overlap_p_both))\n",
    "print(\"Absent  Median : %.4lf\" % np.median(overlap_a_both))"
   ]
  },
  {
   "cell_type": "markdown",
   "metadata": {},
   "source": [
    "# Motivating Example"
   ]
  },
  {
   "cell_type": "code",
   "execution_count": 20,
   "metadata": {},
   "outputs": [
    {
     "name": "stdout",
     "output_type": "stream",
     "text": [
      " python datafram get nan column row tri concat three file one xlsx file abl concat index column get remov datafram use concat function index column three xlsx file 3000 three time approach resolv issu\n"
     ]
    }
   ],
   "source": [
    "tile = \"Pandas index column\"\n",
    "desc = \"\"\"\n",
    "I am trying to concat three files into one xlsx file. I'm able to concat but the index column is not getting removed. My Dataframe after using concat function is having index column of all three xlsx file from 0 to 3000 for three times. How should I approach to resolve the issue?\n",
    "\"\"\"\n",
    "\n",
    "processed_sent = preprocess(title + \" \" + desc)\n",
    "print(processed_sent)"
   ]
  },
  {
   "cell_type": "code",
   "execution_count": 21,
   "metadata": {},
   "outputs": [
    {
     "name": "stdout",
     "output_type": "stream",
     "text": [
      "(1, 2208)\n",
      "[('set_index', 0.13666423627047228), ('index', 0.13079018802171838), ('droplevel', 0.12429880403649632), ('to_csv', 0.11807878209164217), ('transpose', 0.11306946255839406), ('rename_axis', 0.09749191140902971), ('keys', 0.09724875987534112), ('drop_duplicates', 0.09306897991355599), ('filter', 0.09097423737944232), ('iterrows', 0.08861150178191882)]\n"
     ]
    }
   ],
   "source": [
    "features = vectorizer.transform([processed_sent])\n",
    "print(features.shape)\n",
    "\n",
    "_ex_similarity_results = cosine_similarity(documentation_features, features)[:, 0].tolist()\n",
    "api_with_scores = [(a, s) for a, s in zip(apis, _ex_similarity_results)]\n",
    "sorted_apis = sorted(api_with_scores, key=lambda x: x[1])[::-1]\n",
    "print(sorted_apis[:10])"
   ]
  },
  {
   "cell_type": "markdown",
   "metadata": {},
   "source": [
    "# Putting documentation analysis to work\n",
    "Given the a question in the stackoverflow post, we willl analyze the similarity between the post and the api documentations. For every post, we will take the top `k` API matches and evaluate how good it is. "
   ]
  },
  {
   "cell_type": "code",
   "execution_count": 22,
   "metadata": {},
   "outputs": [
    {
     "name": "stdout",
     "output_type": "stream",
     "text": [
      "(761, 2208)\n",
      "(142, 2208) (619, 2208)\n",
      "(619, 142)\n"
     ]
    }
   ],
   "source": [
    "sentences = []\n",
    "apis = []\n",
    "\n",
    "for point in all_about_dataframe_apis:\n",
    "    sentences.append(preprocess(point[\"doc\"]))\n",
    "    apis.append(point[\"api\"])\n",
    "\n",
    "for answer in all_taken_answers:\n",
    "    ques = answer[\"question\"]\n",
    "    title = ques[\"title\"]\n",
    "    desc = ques[\"ques_desc\"]\n",
    "    sentences.append(preprocess(title + \" \" + desc))\n",
    "    pass\n",
    "\n",
    "from sklearn.feature_extraction.text import TfidfVectorizer\n",
    "vectorizer = TfidfVectorizer()\n",
    "X = vectorizer.fit_transform(sentences)\n",
    "print(X.shape)\n",
    "\n",
    "documentation_features = X[:len(all_about_dataframe_apis), :]\n",
    "example_features = X[len(all_about_dataframe_apis):, :]\n",
    "print(documentation_features.shape, example_features.shape)\n",
    "\n",
    "from sklearn.metrics.pairwise import cosine_similarity\n",
    "similarity_results = cosine_similarity(example_features, documentation_features)\n",
    "print(similarity_results.shape)"
   ]
  },
  {
   "cell_type": "code",
   "execution_count": 23,
   "metadata": {},
   "outputs": [
    {
     "name": "stdout",
     "output_type": "stream",
     "text": [
      "dict_keys(['qid', 'link', 'question', 'io', 'answer', 'expected', 'predicted'])\n"
     ]
    }
   ],
   "source": [
    "for exid, example in enumerate(all_taken_answers):\n",
    "    pred_similaroty = [(a, s) for a, s in zip(apis, similarity_results[exid, :].tolist())]\n",
    "    sorted_apis = sorted(pred_similaroty, key=lambda x: x[1])[::-1]\n",
    "    example[\"expected\"] = example[\"answer\"][\"api_seq\"]\n",
    "    example[\"predicted\"] = sorted_apis\n",
    "    \n",
    "print(all_taken_answers[0].keys())\n",
    "    "
   ]
  },
  {
   "cell_type": "code",
   "execution_count": 26,
   "metadata": {},
   "outputs": [],
   "source": [
    "def analyze_performance(top_k):\n",
    "    result = []\n",
    "    percentage = []\n",
    "    count = []\n",
    "    for example in all_taken_answers:\n",
    "        match_found = 0\n",
    "        prediction_apis = [x[0] for x in example[\"predicted\"][:top_k]]\n",
    "        expected = set(example['expected'])\n",
    "        num_apis = len(expected)\n",
    "        for api in expected:\n",
    "            if api in prediction_apis:\n",
    "                match_found += 1\n",
    "        result.append({\n",
    "            'example': example,\n",
    "            'num_apis': num_apis,\n",
    "            'match_found': match_found,\n",
    "            'percentage': match_found/float(num_apis)\n",
    "        })\n",
    "        count.append(match_found)\n",
    "        percentage.append(match_found/float(num_apis) * 100)\n",
    "    return result, percentage, count\n",
    "\n",
    "\n",
    "def show_performance(k, max_apis=8):\n",
    "    top_k_res, top_k_per, top_k_count = analyze_performance(k)\n",
    "\n",
    "    count_to_percentage = {}\n",
    "    for res in top_k_res:\n",
    "        if res['num_apis'] not in count_to_percentage:\n",
    "            count_to_percentage[res['num_apis']] = []\n",
    "        count_to_percentage[res['num_apis']].append(res)\n",
    "        pass\n",
    "    print(\"|\" + (\"=\" * 55) + \"|\")\n",
    "    print(\"|\" + (\" \" * 25) + f\"Top %2d\" %k + (\" \" * 24) + \"|\")\n",
    "    print(\"|\" + (\"-\" * 55) + \"|\")\n",
    "    print(\"| #APIs\\t| #Examples\\t| Full\\t| Half\\t| 1/3\\t| 1/4\\t|\")\n",
    "    print(\"|\" + (\"-\" * 55) + \"|\")\n",
    "    full, half, one_third, one_fourth, total_nums = 0, 0, 0, 0, 0\n",
    "    for num_actual_api in sorted(count_to_percentage.keys()):\n",
    "        if num_actual_api > max_apis:\n",
    "            break\n",
    "        results = count_to_percentage[num_actual_api]\n",
    "        total_full_correct = sum([1 if r['percentage'] > 0.999 else 0 for r in results])\n",
    "        full += total_full_correct\n",
    "        total_half_correct = sum([1 if r['percentage'] >= 0.499 else 0 for r in results])\n",
    "        half += total_half_correct\n",
    "        total_one_third_correct = sum([1 if r['percentage'] >= 0.33 else 0 for r in results])\n",
    "        one_third += total_one_third_correct\n",
    "        total_one_fourth_correct = sum([1 if r['percentage'] >= 0.2499 else 0 for r in results])\n",
    "        one_fourth += total_one_fourth_correct\n",
    "        total_nums += len(results)\n",
    "        print(\n",
    "            \"| %d\\t| %d\\t\\t| %d\\t| %d\\t| %d\\t| %d\\t|\" % (\n",
    "                num_actual_api, \n",
    "                len(results),\n",
    "                total_full_correct, \n",
    "                total_half_correct, \n",
    "                total_one_third_correct, \n",
    "                total_one_fourth_correct, \n",
    "            )\n",
    "        )\n",
    "        pass\n",
    "    print(\"|\" + (\"=\" * 55) + \"|\")\n",
    "    print(\n",
    "            \"| %s\\t| %d\\t\\t| %d\\t| %d\\t| %d\\t| %d\\t|\" % (\n",
    "                \"total\", \n",
    "                total_nums,\n",
    "                full, \n",
    "                half, \n",
    "                one_third, \n",
    "                one_fourth, \n",
    "            )\n",
    "        )\n",
    "    print(\"|\" + (\"=\" * 55) + \"|\")\n",
    "    return top_k_res, count_to_percentage\n",
    "    pass\n"
   ]
  },
  {
   "cell_type": "markdown",
   "metadata": {},
   "source": [
    "# Now the result in terms of performance\n",
    "\n",
    "```\n",
    "example = {\n",
    "    \"title_desc\": \"hello world\"\n",
    "    \"target\": {\"foo\", \"bar\"}, \n",
    "}\n",
    "\n",
    "docs = {\n",
    "    \"foo\": \"jello\",\n",
    "    \"bar\": \"apple\", \n",
    "    \"tar\": \"spicy\",\n",
    "}\n",
    "\n",
    "query -> set(positve samples), set(negative)\n",
    "        pos -> {\"jello\", \"apple\"}, \n",
    "        neg -> {\"spicy\"}\n",
    "```"
   ]
  },
  {
   "cell_type": "code",
   "execution_count": 27,
   "metadata": {},
   "outputs": [
    {
     "name": "stdout",
     "output_type": "stream",
     "text": [
      "|=======================================================|\n",
      "|                         Top  1                        |\n",
      "|-------------------------------------------------------|\n",
      "| #APIs\t| #Examples\t| Full\t| Half\t| 1/3\t| 1/4\t|\n",
      "|-------------------------------------------------------|\n",
      "| 1\t| 111\t\t| 7\t| 7\t| 7\t| 7\t|\n",
      "| 2\t| 111\t\t| 0\t| 11\t| 11\t| 11\t|\n",
      "| 3\t| 110\t\t| 0\t| 0\t| 26\t| 26\t|\n",
      "| 4\t| 81\t\t| 0\t| 0\t| 0\t| 14\t|\n",
      "| 5\t| 66\t\t| 0\t| 0\t| 0\t| 0\t|\n",
      "| 6\t| 52\t\t| 0\t| 0\t| 0\t| 0\t|\n",
      "| 7\t| 19\t\t| 0\t| 0\t| 0\t| 0\t|\n",
      "| 8\t| 14\t\t| 0\t| 0\t| 0\t| 0\t|\n",
      "|=======================================================|\n",
      "| total\t| 564\t\t| 7\t| 18\t| 44\t| 58\t|\n",
      "|=======================================================|\n"
     ]
    }
   ],
   "source": [
    "show_performance(1);"
   ]
  },
  {
   "cell_type": "code",
   "execution_count": 28,
   "metadata": {},
   "outputs": [
    {
     "name": "stdout",
     "output_type": "stream",
     "text": [
      "|=======================================================|\n",
      "|                         Top  2                        |\n",
      "|-------------------------------------------------------|\n",
      "| #APIs\t| #Examples\t| Full\t| Half\t| 1/3\t| 1/4\t|\n",
      "|-------------------------------------------------------|\n",
      "| 1\t| 111\t\t| 10\t| 10\t| 10\t| 10\t|\n",
      "| 2\t| 111\t\t| 0\t| 20\t| 20\t| 20\t|\n",
      "| 3\t| 110\t\t| 0\t| 2\t| 35\t| 35\t|\n",
      "| 4\t| 81\t\t| 0\t| 2\t| 2\t| 19\t|\n",
      "| 5\t| 66\t\t| 0\t| 0\t| 2\t| 2\t|\n",
      "| 6\t| 52\t\t| 0\t| 0\t| 2\t| 2\t|\n",
      "| 7\t| 19\t\t| 0\t| 0\t| 0\t| 0\t|\n",
      "| 8\t| 14\t\t| 0\t| 0\t| 0\t| 0\t|\n",
      "|=======================================================|\n",
      "| total\t| 564\t\t| 10\t| 34\t| 71\t| 88\t|\n",
      "|=======================================================|\n"
     ]
    }
   ],
   "source": [
    "show_performance(2);"
   ]
  },
  {
   "cell_type": "code",
   "execution_count": 29,
   "metadata": {},
   "outputs": [
    {
     "name": "stdout",
     "output_type": "stream",
     "text": [
      "|=======================================================|\n",
      "|                         Top  5                        |\n",
      "|-------------------------------------------------------|\n",
      "| #APIs\t| #Examples\t| Full\t| Half\t| 1/3\t| 1/4\t|\n",
      "|-------------------------------------------------------|\n",
      "| 1\t| 111\t\t| 17\t| 17\t| 17\t| 17\t|\n",
      "| 2\t| 111\t\t| 2\t| 35\t| 35\t| 35\t|\n",
      "| 3\t| 110\t\t| 0\t| 9\t| 50\t| 50\t|\n",
      "| 4\t| 81\t\t| 0\t| 4\t| 4\t| 33\t|\n",
      "| 5\t| 66\t\t| 0\t| 2\t| 11\t| 11\t|\n",
      "| 6\t| 52\t\t| 0\t| 1\t| 5\t| 5\t|\n",
      "| 7\t| 19\t\t| 0\t| 0\t| 1\t| 3\t|\n",
      "| 8\t| 14\t\t| 0\t| 0\t| 0\t| 0\t|\n",
      "|=======================================================|\n",
      "| total\t| 564\t\t| 19\t| 68\t| 123\t| 154\t|\n",
      "|=======================================================|\n"
     ]
    }
   ],
   "source": [
    "show_performance(5);"
   ]
  },
  {
   "cell_type": "code",
   "execution_count": 30,
   "metadata": {},
   "outputs": [
    {
     "name": "stdout",
     "output_type": "stream",
     "text": [
      "|=======================================================|\n",
      "|                         Top 10                        |\n",
      "|-------------------------------------------------------|\n",
      "| #APIs\t| #Examples\t| Full\t| Half\t| 1/3\t| 1/4\t|\n",
      "|-------------------------------------------------------|\n",
      "| 1\t| 111\t\t| 25\t| 25\t| 25\t| 25\t|\n",
      "| 2\t| 111\t\t| 6\t| 43\t| 43\t| 43\t|\n",
      "| 3\t| 110\t\t| 1\t| 14\t| 64\t| 64\t|\n",
      "| 4\t| 81\t\t| 1\t| 11\t| 11\t| 54\t|\n",
      "| 5\t| 66\t\t| 0\t| 7\t| 26\t| 26\t|\n",
      "| 6\t| 52\t\t| 0\t| 3\t| 14\t| 14\t|\n",
      "| 7\t| 19\t\t| 0\t| 1\t| 3\t| 6\t|\n",
      "| 8\t| 14\t\t| 0\t| 0\t| 0\t| 4\t|\n",
      "|=======================================================|\n",
      "| total\t| 564\t\t| 33\t| 104\t| 186\t| 236\t|\n",
      "|=======================================================|\n"
     ]
    }
   ],
   "source": [
    "_, count_to_p = show_performance(10);"
   ]
  },
  {
   "cell_type": "code",
   "execution_count": null,
   "metadata": {},
   "outputs": [],
   "source": []
  }
 ],
 "metadata": {
  "kernelspec": {
   "display_name": "Python 3",
   "language": "python",
   "name": "python3"
  },
  "language_info": {
   "codemirror_mode": {
    "name": "ipython",
    "version": 3
   },
   "file_extension": ".py",
   "mimetype": "text/x-python",
   "name": "python",
   "nbconvert_exporter": "python",
   "pygments_lexer": "ipython3",
   "version": "3.6.12"
  }
 },
 "nbformat": 4,
 "nbformat_minor": 4
}
