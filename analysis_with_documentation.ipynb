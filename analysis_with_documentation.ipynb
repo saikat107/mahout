{
 "cells": [
  {
   "cell_type": "code",
   "execution_count": 1,
   "metadata": {},
   "outputs": [],
   "source": [
    "import requests\n",
    "import json \n",
    "from bs4 import BeautifulSoup as bs\n",
    "from tqdm import tqdm\n",
    "\n",
    "urls = json.load(open(\"pandas_apis.json\"))\n",
    "data_frame_url = urls[\"df\"]"
   ]
  },
  {
   "cell_type": "code",
   "execution_count": 2,
   "metadata": {},
   "outputs": [],
   "source": [
    "import os \n",
    "\n",
    "if not os.path.exists(\"api_details\"):\n",
    "    os.mkdir(\"api_details\")"
   ]
  },
  {
   "cell_type": "code",
   "execution_count": 3,
   "metadata": {},
   "outputs": [
    {
     "name": "stdout",
     "output_type": "stream",
     "text": [
      "1\n"
     ]
    }
   ],
   "source": [
    "import re\n",
    "def get_details_about_apis(which_type_of_url, _url):\n",
    "    invalid_count = 0\n",
    "    page = requests.get(_url)\n",
    "    soup = bs(page.content, 'html.parser')\n",
    "    all_about_apis = []\n",
    "    codes = soup.find_all(\"code\", {\"class\": \"xref py py-obj docutils literal notranslate\"})\n",
    "    for code in codes:\n",
    "        api_name = code.find(\"span\").text\n",
    "        if \".\" in api_name:\n",
    "            api_name = api_name[api_name.index(\".\") + 1:]\n",
    "        documentation = list(code.parent.parent.parent.parent.children)[2].find(\"p\").text\n",
    "        try:\n",
    "            category = code.parent.parent.parent.parent.parent.parent.parent.find(\"h2\").text[:-1]\n",
    "        except:\n",
    "            category = which_type_of_url\n",
    "        if len(api_name.strip()) == 0 or len(documentation.strip()) == 0 or len(category.strip()) == 0:\n",
    "            invalid_count += 1\n",
    "            continue\n",
    "        all_about_apis.append({\n",
    "            \"api\": re.sub(\",\", \" \", str(api_name.encode(\"ascii\", errors=\"ignore\").decode())),\n",
    "            \"doc\": re.sub(\",\", \" \", str(documentation.encode(\"ascii\", errors=\"ignore\").decode())),\n",
    "            \"category\": re.sub(\",\", \" \", str(category.encode(\"ascii\", errors=\"ignore\").decode()))\n",
    "        })\n",
    "    print(invalid_count)\n",
    "    return all_about_apis\n",
    "    \n",
    "all_about_dataframe_apis = get_details_about_apis(\"dataframe\", data_frame_url)\n",
    "fp = open(\"api_details/all_about_dataframe_apis.json\", \"w\")\n",
    "json.dump(all_about_dataframe_apis, fp, indent=4)\n",
    "fp.close()"
   ]
  },
  {
   "cell_type": "code",
   "execution_count": 4,
   "metadata": {},
   "outputs": [
    {
     "name": "stdout",
     "output_type": "stream",
     "text": [
      "2\n",
      "1\n",
      "3\n",
      "1\n",
      "31\n",
      "12\n",
      "2\n"
     ]
    }
   ],
   "source": [
    "all_apis_with_all_details = []\n",
    "for which in urls.keys():\n",
    "    all_apis_with_all_details.extend(get_details_about_apis(which, urls[which]))"
   ]
  },
  {
   "cell_type": "code",
   "execution_count": 5,
   "metadata": {},
   "outputs": [],
   "source": [
    "import csv\n",
    " \n",
    "data_file = open('api_details/data_frame_api_details.csv', 'w')\n",
    "keys = all_about_dataframe_apis[0].keys()\n",
    "data_file.write(\"api,category,doc\\n\")\n",
    "count = 0\n",
    "for data in all_about_dataframe_apis:\n",
    "    data_file.write(data[\"api\"] + \",\" + data[\"category\"] + \",\" + data[\"doc\"] + \"\\n\")\n",
    " \n",
    "data_file.close()"
   ]
  },
  {
   "cell_type": "code",
   "execution_count": 6,
   "metadata": {},
   "outputs": [],
   "source": [
    "import csv\n",
    " \n",
    "data_file = open('api_details/pandas_api_details.csv', 'w')\n",
    "keys = all_apis_with_all_details[0].keys()\n",
    "data_file.write(\"api,category,doc\\n\")\n",
    "count = 0\n",
    "for data in all_apis_with_all_details:\n",
    "    data_file.write(data[\"api\"] + \",\" + data[\"category\"] + \",\" + data[\"doc\"] + \"\\n\")\n",
    " \n",
    "data_file.close()"
   ]
  },
  {
   "cell_type": "code",
   "execution_count": 7,
   "metadata": {},
   "outputs": [
    {
     "name": "stdout",
     "output_type": "stream",
     "text": [
      "659\n"
     ]
    }
   ],
   "source": [
    "taken_answer_dir = \"25_K_Examples\"\n",
    "all_taken_answers = []\n",
    "for part in range(1, 4):\n",
    "    taken_answers = json.load(\n",
    "        open(\n",
    "            os.path.join(\n",
    "                taken_answer_dir, \n",
    "                f\"part-{part}-output/taken_answers_with_all_details.json\"\n",
    "            )\n",
    "        )\n",
    "    )\n",
    "    for answer in taken_answers:\n",
    "        all_taken_answers.append(answer[\"formatted_input\"])\n",
    "\n",
    "print(len(all_taken_answers))\n",
    "    "
   ]
  },
  {
   "cell_type": "code",
   "execution_count": 8,
   "metadata": {},
   "outputs": [],
   "source": [
    "import numpy as np \n",
    "from nltk.corpus import stopwords\n",
    "from nltk.stem import WordNetLemmatizer, PorterStemmer\n",
    "from nltk.tokenize import word_tokenize\n",
    "\n",
    "def remove_punc(data):\n",
    "    symbols = \"!\\\"#$%&()*+-./:;<=>?@[\\]^_`{|}~\\n\"\n",
    "    for i in symbols:\n",
    "        data = np.char.replace(data, i, ' ')\n",
    "    return str(data)\n",
    "\n",
    "def remove_single_char(data):\n",
    "    new_text = \"\"\n",
    "    words = data.split()\n",
    "    for w in words:\n",
    "        if len(w) > 1:\n",
    "           new_text = new_text + \" \" + w\n",
    "    return new_text\n",
    "\n",
    "def remove_stopword(data):\n",
    "    stop_words = stopwords.words(\"english\")\n",
    "    words = data.split()\n",
    "    new_text = \"\"\n",
    "    for word in words:\n",
    "        if word not in stop_words:\n",
    "            new_text = new_text + \" \" + word\n",
    "    return new_text\n",
    "\n",
    "def stem(data):\n",
    "    ps = PorterStemmer()\n",
    "    words = data.split()\n",
    "    new_text = \"\"\n",
    "    for w in words:\n",
    "        new_text += (\" \" + ps.stem(w))\n",
    "    return new_text\n",
    "\n",
    "def lematize(data):\n",
    "    ps = WordNetLemmatizer()\n",
    "    words = data.split()\n",
    "    new_text = \"\"\n",
    "    for w in words:\n",
    "        new_text += (\" \" + ps.lemmatize(w))\n",
    "    return new_text\n",
    "\n",
    "def dataframe(data):\n",
    "    words = data.split()\n",
    "    new_text = \"\"\n",
    "    for word in words:\n",
    "        if word == \"df\" or word == \"dataframe\":\n",
    "            word = \"data frame\"\n",
    "        new_text += (\" \" + word)\n",
    "    return new_text\n",
    "\n",
    "def preprocess(data):\n",
    "    words = word_tokenize(data)\n",
    "    data = \" \".join(words)\n",
    "    data = np.char.lower(data)\n",
    "    data = remove_punc(data)\n",
    "    data = str(np.char.replace(data, \"'\", \"\"))\n",
    "    data = remove_single_char(data)\n",
    "    data = remove_stopword(data)\n",
    "    data = stem(data)\n",
    "    data = lematize(data)\n",
    "    data = dataframe(data)\n",
    "    data = remove_punc(data)\n",
    "    return data\n"
   ]
  },
  {
   "cell_type": "markdown",
   "metadata": {},
   "source": [
    "# Only Title"
   ]
  },
  {
   "cell_type": "code",
   "execution_count": 9,
   "metadata": {},
   "outputs": [
    {
     "name": "stdout",
     "output_type": "stream",
     "text": [
      "(883, 814)\n",
      "(224, 814) (659, 814)\n",
      "(224, 659)\n"
     ]
    }
   ],
   "source": [
    "sentences = []\n",
    "apis = []\n",
    "for point in all_about_dataframe_apis:\n",
    "    sentences.append(preprocess(point[\"doc\"]))\n",
    "    apis.append(point[\"api\"])\n",
    "\n",
    "for answer in all_taken_answers:\n",
    "    ques = answer[\"question\"]\n",
    "    title = ques[\"title\"]\n",
    "    sentences.append(preprocess(title))\n",
    "    pass\n",
    "\n",
    "from sklearn.feature_extraction.text import TfidfVectorizer\n",
    "vectorizer = TfidfVectorizer()\n",
    "X = vectorizer.fit_transform(sentences)\n",
    "print(X.shape)\n",
    "\n",
    "documentation_features = X[:len(all_about_dataframe_apis), :]\n",
    "example_features = X[len(all_about_dataframe_apis):, :]\n",
    "print(documentation_features.shape, example_features.shape)\n",
    "\n",
    "from sklearn.metrics.pairwise import cosine_similarity\n",
    "similarity_results = cosine_similarity(documentation_features, example_features)\n",
    "print(similarity_results.shape)"
   ]
  },
  {
   "cell_type": "markdown",
   "metadata": {},
   "source": [
    "## From example perspective \n",
    "### Total points = len(examples)"
   ]
  },
  {
   "cell_type": "code",
   "execution_count": 33,
   "metadata": {},
   "outputs": [
    {
     "data": {
      "image/png": "[encoded data removed]",
      "text/plain": [
       "<Figure size 1008x216 with 1 Axes>"
      ]
     },
     "metadata": {
      "needs_background": "light"
     },
     "output_type": "display_data"
    },
    {
     "data": {
      "image/png": "[encoded data removed]",
      "text/plain": [
       "<Figure size 1008x216 with 1 Axes>"
      ]
     },
     "metadata": {
      "needs_background": "light"
     },
     "output_type": "display_data"
    }
   ],
   "source": [
    "overlap_p_ques = []\n",
    "overlap_a_ques = []\n",
    "for exidx, example in enumerate(all_taken_answers):\n",
    "    code = example[\"answer\"][\"code\"]\n",
    "    present_scores, absent_scores = [], []\n",
    "    for api_idx, api in enumerate(apis):\n",
    "        api = str(api)  \n",
    "        found = False\n",
    "        for c in code:\n",
    "            if api in c:\n",
    "                found = True\n",
    "                break\n",
    "        if found:\n",
    "            present_scores.append(similarity_results[api_idx, exidx])\n",
    "        else:\n",
    "            absent_scores.append(similarity_results[api_idx, exidx])\n",
    "    overlap_p_ques.append(\n",
    "        np.mean(present_scores) if len(present_scores) > 0 else 0.0\n",
    "    )\n",
    "    overlap_a_ques.append(\n",
    "        np.mean(absent_scores) if len(absent_scores) > 0 else 0.0,\n",
    "    )\n",
    "\n",
    "import matplotlib.pyplot as plt\n",
    "plt.figure(figsize=(14,3))\n",
    "plt.hist(overlap_p_ques, label=\"Present\", bins=50)\n",
    "plt.title(\"Average Similarity if PRESENT APIs\")\n",
    "plt.show()\n",
    "plt.figure(figsize=(14, 3))\n",
    "plt.hist(overlap_a_ques, label=\"Absent\", bins=50)\n",
    "plt.title(\"Average Similarity if ABSENT APIs\")\n",
    "plt.show()"
   ]
  },
  {
   "cell_type": "markdown",
   "metadata": {},
   "source": [
    "## From API perspective\n",
    "### Total points = len(apis)"
   ]
  },
  {
   "cell_type": "code",
   "execution_count": 34,
   "metadata": {},
   "outputs": [
    {
     "data": {
      "image/png": "[encoded data removed]",
      "text/plain": [
       "<Figure size 1008x216 with 1 Axes>"
      ]
     },
     "metadata": {
      "needs_background": "light"
     },
     "output_type": "display_data"
    },
    {
     "data": {
      "image/png": "[encoded data removed]",
      "text/plain": [
       "<Figure size 1008x216 with 1 Axes>"
      ]
     },
     "metadata": {
      "needs_background": "light"
     },
     "output_type": "display_data"
    }
   ],
   "source": [
    "overlap_p_api = []\n",
    "overlap_a_api = []\n",
    "for api_idx, api in enumerate(apis):\n",
    "    api = str(api)  \n",
    "    present_scores, absent_scores = [], []\n",
    "    for exidx, example in enumerate(all_taken_answers):\n",
    "        code = example[\"answer\"][\"code\"]\n",
    "        found = False\n",
    "        for c in code:\n",
    "            if api in c:\n",
    "                found = True\n",
    "                break\n",
    "        if found:\n",
    "            present_scores.append(similarity_results[api_idx, exidx])\n",
    "        else:\n",
    "            absent_scores.append(similarity_results[api_idx, exidx])\n",
    "    overlap_p_api.append(\n",
    "        np.mean(present_scores) if len(present_scores) > 0 else 0.0\n",
    "    )\n",
    "    overlap_a_api.append(\n",
    "        np.mean(absent_scores) if len(absent_scores) > 0 else 0.0,\n",
    "    )\n",
    "\n",
    "import matplotlib.pyplot as plt\n",
    "plt.figure(figsize=(14,3))\n",
    "plt.hist(overlap_p_api, label=\"Present\", bins=50)\n",
    "plt.title(\"Average Similarity if PRESENT APIs\")\n",
    "plt.show()\n",
    "plt.figure(figsize=(14, 3))\n",
    "plt.hist(overlap_a_api, label=\"Absent\", bins=50)\n",
    "plt.title(\"Average Similarity if ABSENT APIs\")\n",
    "plt.show()"
   ]
  },
  {
   "cell_type": "markdown",
   "metadata": {},
   "source": [
    "## From Both Perspective\n",
    "### Total points = len(examples) * len(apis)"
   ]
  },
  {
   "cell_type": "code",
   "execution_count": 35,
   "metadata": {},
   "outputs": [
    {
     "data": {
      "image/png": "[encoded data removed]",
      "text/plain": [
       "<Figure size 1008x216 with 1 Axes>"
      ]
     },
     "metadata": {
      "needs_background": "light"
     },
     "output_type": "display_data"
    },
    {
     "data": {
      "image/png": "[encoded data removed]",
      "text/plain": [
       "<Figure size 1008x216 with 1 Axes>"
      ]
     },
     "metadata": {
      "needs_background": "light"
     },
     "output_type": "display_data"
    }
   ],
   "source": [
    "overlap_p_both = []\n",
    "overlap_a_both = []\n",
    "for api_idx, api in enumerate(apis):\n",
    "    api = str(api)  \n",
    "    for exidx, example in enumerate(all_taken_answers):\n",
    "        code = example[\"answer\"][\"code\"]\n",
    "        found = False\n",
    "        for c in code:\n",
    "            if api in c:\n",
    "                found = True\n",
    "                break\n",
    "        if found:\n",
    "            overlap_p_both.append(similarity_results[api_idx, exidx])\n",
    "        else:\n",
    "            overlap_a_both.append(similarity_results[api_idx, exidx])\n",
    "\n",
    "import matplotlib.pyplot as plt\n",
    "plt.figure(figsize=(14,3))\n",
    "plt.hist(overlap_p_both, label=\"Present\", bins=50)\n",
    "plt.title(\"Average Similarity if PRESENT APIs\")\n",
    "plt.show()\n",
    "plt.figure(figsize=(14, 3))\n",
    "plt.hist(overlap_a_both, label=\"Absent\", bins=50)\n",
    "plt.title(\"Average Similarity if ABSENT APIs\")\n",
    "plt.show()"
   ]
  },
  {
   "cell_type": "code",
   "execution_count": null,
   "metadata": {},
   "outputs": [],
   "source": []
  }
 ],
 "metadata": {
  "kernelspec": {
   "display_name": "Python 3",
   "language": "python",
   "name": "python3"
  },
  "language_info": {
   "codemirror_mode": {
    "name": "ipython",
    "version": 3
   },
   "file_extension": ".py",
   "mimetype": "text/x-python",
   "name": "python",
   "nbconvert_exporter": "python",
   "pygments_lexer": "ipython3",
   "version": "3.6.12"
  }
 },
 "nbformat": 4,
 "nbformat_minor": 4
}
