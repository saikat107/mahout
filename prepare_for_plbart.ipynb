{
 "cells": [
  {
   "cell_type": "code",
   "execution_count": 3,
   "metadata": {},
   "outputs": [],
   "source": [
    "import requests\n",
    "import json \n",
    "from bs4 import BeautifulSoup as bs\n",
    "from tqdm.notebook import tqdm\n",
    "\n",
    "urls = json.load(open(\"pandas_apis.json\"))\n",
    "data_frame_url = urls[\"df\"]\n",
    "\n",
    "def get_api_list(_url):\n",
    "    page = requests.get(_url)\n",
    "    soup = bs(page.content, 'html.parser')\n",
    "    codes = soup.find_all(\"code\", {\"class\": \"xref py py-obj docutils literal notranslate\"})\n",
    "    apis = []\n",
    "    for code in codes:\n",
    "        api_name = code.find(\"span\").text\n",
    "        if \".\" in api_name:\n",
    "            name = api_name[api_name.index(\".\") + 1:]\n",
    "            apis.append(name)\n",
    "            pass\n",
    "        else:\n",
    "            apis.append(api_name)\n",
    "        pass\n",
    "    return apis\n",
    "\n",
    "data_frame_apis = get_api_list(data_frame_url)\n",
    "# print(data_frame_apis)\n",
    "\n",
    "list_of_apis = []\n",
    "complete_api_sets = []\n",
    "\n",
    "for key in urls:\n",
    "    api_from_url = get_api_list(urls[key])\n",
    "    list_of_apis.append({\n",
    "        \"url_key\": key,\n",
    "        \"url\": urls[key],\n",
    "        \"apis\": api_from_url\n",
    "    })\n",
    "    complete_api_sets.extend(api_from_url)\n",
    "    pass"
   ]
  },
  {
   "cell_type": "code",
   "execution_count": 25,
   "metadata": {},
   "outputs": [
    {
     "name": "stdout",
     "output_type": "stream",
     "text": [
      "['read_pickle', 'to_pickle', 'read_table', 'read_csv', 'to_csv', 'read_fwf', 'read_clipboard', 'to_clipboard', 'read_excel', 'to_excel', 'parse', 'to_excel', 'ExcelWriter', 'read_json', 'to_json', 'build_table_schema', 'read_html', 'to_html', 'to_html', 'read_xml', 'to_xml', 'to_latex', 'to_latex', 'read_hdf', 'put', 'append', 'get', 'select', 'info', 'keys', 'groups', 'walk', 'read_feather', 'to_feather', 'read_parquet', 'to_parquet', 'read_orc', 'read_sas', 'read_spss', 'read_sql_table', 'read_sql_query', 'read_sql', 'to_sql', 'read_gbq', 'read_stata', 'to_stata', 'data_label', 'value_labels', 'variable_labels', 'write_file', 'melt', 'pivot', 'pivot_table', 'crosstab', 'cut', 'qcut', 'merge', 'merge_ordered', 'merge_asof', 'concat', 'get_dummies', 'factorize', 'unique', 'wide_to_long', 'isna', 'isnull', 'notna', 'notnull', 'to_numeric', 'to_datetime', 'to_timedelta', 'date_range', 'bdate_range', 'period_range', 'timedelta_range', 'infer_freq', 'interval_range', 'eval', 'hash_array', 'hash_pandas_object', 'test', 'Series', 'index', 'array', 'values', 'dtype', 'shape', 'nbytes', 'ndim', 'size', 'T', 'memory_usage', 'hasnans', 'empty', 'dtypes', 'name', 'flags', 'set_flags', 'astype', 'convert_dtypes', 'infer_objects', 'copy', 'bool', 'to_numpy', 'to_period', 'to_timestamp', 'to_list', '__array__', 'get', 'at', 'iat', 'loc', 'iloc', '__iter__', 'items', 'iteritems', 'keys', 'pop', 'item', 'xs', 'add', 'sub', 'mul', 'div', 'truediv', 'floordiv', 'mod', 'pow', 'radd', 'rsub', 'rmul', 'rdiv', 'rtruediv', 'rfloordiv', 'rmod', 'rpow', 'combine', 'combine_first', 'round', 'lt', 'gt', 'le', 'ge', 'ne', 'eq', 'product', 'dot', 'apply', 'agg', 'aggregate', 'transform', 'map', 'groupby', 'rolling', 'expanding', 'ewm', 'pipe', 'abs', 'all', 'any', 'autocorr', 'between', 'clip', 'corr', 'count', 'cov', 'cummax', 'cummin', 'cumprod', 'cumsum', 'describe', 'diff', 'factorize', 'kurt', 'mad', 'max', 'mean', 'median', 'min', 'mode', 'nlargest', 'nsmallest', 'pct_change', 'prod', 'quantile', 'rank', 'sem', 'skew', 'std', 'sum', 'var', 'kurtosis', 'unique', 'nunique', 'is_unique', 'is_monotonic', 'is_monotonic_increasing', 'is_monotonic_decreasing', 'value_counts', 'align', 'drop', 'droplevel', 'drop_duplicates', 'duplicated', 'equals', 'first', 'head', 'idxmax', 'idxmin', 'isin', 'last', 'reindex', 'reindex_like', 'rename', 'rename_axis', 'reset_index', 'sample', 'set_axis', 'take', 'tail', 'truncate', 'where', 'mask', 'add_prefix', 'add_suffix', 'filter', 'backfill', 'bfill', 'dropna', 'ffill', 'fillna', 'interpolate', 'isna', 'isnull', 'notna', 'notnull', 'pad', 'replace', 'argsort', 'argmin', 'argmax', 'reorder_levels', 'sort_values', 'sort_index', 'swaplevel', 'unstack', 'explode', 'searchsorted', 'ravel', 'repeat', 'squeeze', 'view', 'append', 'compare', 'update', 'asfreq', 'asof', 'shift', 'first_valid_index', 'last_valid_index', 'resample', 'tz_convert', 'tz_localize', 'at_time', 'between_time', 'tshift', 'slice_shift', 'dt.date', 'dt.time', 'dt.timetz', 'dt.year', 'dt.month', 'dt.day', 'dt.hour', 'dt.minute', 'dt.second', 'dt.microsecond', 'dt.nanosecond', 'dt.week', 'dt.weekofyear', 'dt.dayofweek', 'dt.day_of_week', 'dt.weekday', 'dt.dayofyear', 'dt.day_of_year', 'dt.quarter', 'dt.is_month_start', 'dt.is_month_end', 'dt.is_quarter_start', 'dt.is_quarter_end', 'dt.is_year_start', 'dt.is_year_end', 'dt.is_leap_year', 'dt.daysinmonth', 'dt.days_in_month', 'dt.tz', 'dt.freq', 'dt.to_period', 'dt.to_pydatetime', 'dt.tz_localize', 'dt.tz_convert', 'dt.normalize', 'dt.strftime', 'dt.round', 'dt.floor', 'dt.ceil', 'dt.month_name', 'dt.day_name', 'dt.qyear', 'dt.start_time', 'dt.end_time', 'dt.days', 'dt.seconds', 'dt.microseconds', 'dt.nanoseconds', 'dt.components', 'dt.to_pytimedelta', 'dt.total_seconds', 'str.capitalize', 'str.casefold', 'str.cat', 'str.center', 'str.contains', 'str.count', 'str.decode', 'str.encode', 'str.endswith', 'str.extract', 'str.extractall', 'str.find', 'str.findall', 'str.fullmatch', 'str.get', 'str.index', 'str.join', 'str.len', 'str.ljust', 'str.lower', 'str.lstrip', 'str.match', 'str.normalize', 'str.pad', 'str.partition', 'str.repeat', 'str.replace', 'str.rfind', 'str.rindex', 'str.rjust', 'str.rpartition', 'str.rstrip', 'str.slice', 'str.slice_replace', 'str.split', 'str.rsplit', 'str.startswith', 'str.strip', 'str.swapcase', 'str.title', 'str.translate', 'str.upper', 'str.wrap', 'str.zfill', 'str.isalnum', 'str.isalpha', 'str.isdigit', 'str.isspace', 'str.islower', 'str.isupper', 'str.istitle', 'str.isnumeric', 'str.isdecimal', 'str.get_dummies', 'cat.categories', 'cat.ordered', 'cat.codes', 'cat.rename_categories', 'cat.reorder_categories', 'cat.add_categories', 'cat.remove_categories', 'cat.remove_unused_categories', 'cat.set_categories', 'cat.as_ordered', 'cat.as_unordered', 'sparse.npoints', 'sparse.density', 'sparse.fill_value', 'sparse.sp_values', 'sparse.from_coo', 'sparse.to_coo', 'Flags', 'attrs', 'plot', 'plot.area', 'plot.bar', 'plot.barh', 'plot.box', 'plot.density', 'plot.hist', 'plot.kde', 'plot.line', 'plot.pie', 'hist', 'to_pickle', 'to_csv', 'to_dict', 'to_excel', 'to_frame', 'to_xarray', 'to_hdf', 'to_sql', 'to_json', 'to_string', 'to_clipboard', 'to_latex', 'to_markdown', 'DataFrame', 'index', 'columns', 'dtypes', 'info', 'select_dtypes', 'values', 'axes', 'ndim', 'size', 'shape', 'memory_usage', 'empty', 'set_flags', 'astype', 'convert_dtypes', 'infer_objects', 'copy', 'bool', 'head', 'at', 'iat', 'loc', 'iloc', 'insert', '__iter__', 'items', 'iteritems', 'keys', 'iterrows', 'itertuples', 'lookup', 'pop', 'tail', 'xs', 'get', 'isin', 'where', 'mask', 'query', 'add', 'sub', 'mul', 'div', 'truediv', 'floordiv', 'mod', 'pow', 'dot', 'radd', 'rsub', 'rmul', 'rdiv', 'rtruediv', 'rfloordiv', 'rmod', 'rpow', 'lt', 'gt', 'le', 'ge', 'ne', 'eq', 'combine', 'combine_first', 'apply', 'applymap', 'pipe', 'agg', 'aggregate', 'transform', 'groupby', 'rolling', 'expanding', 'ewm', 'abs', 'all', 'any', 'clip', 'corr', 'corrwith', 'count', 'cov', 'cummax', 'cummin', 'cumprod', 'cumsum', 'describe', 'diff', 'eval', 'kurt', 'kurtosis', 'mad', 'max', 'mean', 'median', 'min', 'mode', 'pct_change', 'prod', 'product', 'quantile', 'rank', 'round', 'sem', 'skew', 'sum', 'std', 'var', 'nunique', 'value_counts', 'add_prefix', 'add_suffix', 'align', 'at_time', 'between_time', 'drop', 'drop_duplicates', 'duplicated', 'equals', 'filter', 'first', 'head', 'idxmax', 'idxmin', 'last', 'reindex', 'reindex_like', 'rename', 'rename_axis', 'reset_index', 'sample', 'set_axis', 'set_index', 'tail', 'take', 'truncate', 'backfill', 'bfill', 'dropna', 'ffill', 'fillna', 'interpolate', 'isna', 'isnull', 'notna', 'notnull', 'pad', 'replace', 'droplevel', 'pivot', 'pivot_table', 'reorder_levels', 'sort_values', 'sort_index', 'nlargest', 'nsmallest', 'swaplevel', 'stack', 'unstack', 'swapaxes', 'melt', 'explode', 'squeeze', 'to_xarray', 'T', 'transpose', 'append', 'assign', 'compare', 'join', 'merge', 'update', 'asfreq', 'asof', 'shift', 'slice_shift', 'tshift', 'first_valid_index', 'last_valid_index', 'resample', 'to_period', 'to_timestamp', 'tz_convert', 'tz_localize', 'Flags', 'attrs', 'plot', 'plot.area', 'plot.bar', 'plot.barh', 'plot.box', 'plot.density', 'plot.hexbin', 'plot.hist', 'plot.kde', 'plot.line', 'plot.pie', 'plot.scatter', 'boxplot', 'hist', 'sparse.density', 'sparse.from_spmatrix', 'sparse.to_coo', 'sparse.to_dense', 'from_dict', 'from_records', 'to_parquet', 'to_pickle', 'to_csv', 'to_hdf', 'to_sql', 'to_dict', 'to_excel', 'to_json', 'to_html', 'to_feather', 'to_latex', 'to_stata', 'to_gbq', 'to_records', 'to_string', 'to_clipboard', 'to_markdown', 'style', 'array', 'Timestamp', 'asm8', 'day', 'dayofweek', 'day_of_week', 'dayofyear', 'day_of_year', 'days_in_month', 'daysinmonth', 'fold', 'hour', 'is_leap_year', 'is_month_end', 'is_month_start', 'is_quarter_end', 'is_quarter_start', 'is_year_end', 'is_year_start', 'max', 'microsecond', 'min', 'minute', 'month', 'nanosecond', 'quarter', 'resolution', 'second', 'tz', 'tzinfo', 'value', 'week', 'weekofyear', 'year', 'astimezone', 'ceil', 'combine', 'ctime', 'date', 'day_name', 'dst', 'floor', 'freq', 'freqstr', 'fromordinal', 'fromtimestamp', 'isocalendar', 'isoformat', 'isoweekday', 'month_name', 'normalize', 'now', 'replace', 'round', 'strftime', 'strptime', 'time', 'timestamp', 'timetuple', 'timetz', 'to_datetime64', 'to_numpy', 'to_julian_date', 'to_period', 'to_pydatetime', 'today', 'toordinal', 'tz_convert', 'tz_localize', 'tzname', 'utcfromtimestamp', 'utcnow', 'utcoffset', 'utctimetuple', 'weekday', 'DatetimeArray', 'DatetimeTZDtype', 'Timedelta', 'asm8', 'components', 'days', 'delta', 'freq', 'is_populated', 'max', 'microseconds', 'min', 'nanoseconds', 'resolution', 'seconds', 'value', 'view', 'ceil', 'floor', 'isoformat', 'round', 'to_pytimedelta', 'to_timedelta64', 'to_numpy', 'total_seconds', 'TimedeltaArray', 'Period', 'day', 'dayofweek', 'day_of_week', 'dayofyear', 'day_of_year', 'days_in_month', 'daysinmonth', 'end_time', 'freq', 'freqstr', 'hour', 'is_leap_year', 'minute', 'month', 'ordinal', 'quarter', 'qyear', 'second', 'start_time', 'week', 'weekday', 'weekofyear', 'year', 'asfreq', 'now', 'strftime', 'to_timestamp', 'PeriodArray', 'PeriodDtype', 'Interval', 'closed', 'closed_left', 'closed_right', 'is_empty', 'left', 'length', 'mid', 'open_left', 'open_right', 'overlaps', 'right', 'IntervalArray', 'IntervalDtype', 'IntegerArray', 'Int8Dtype', 'Int16Dtype', 'Int32Dtype', 'Int64Dtype', 'UInt8Dtype', 'UInt16Dtype', 'UInt32Dtype', 'UInt64Dtype', 'CategoricalDtype', 'categories', 'ordered', 'Categorical', 'from_codes', 'dtype', 'categories', 'ordered', 'codes', '__array__', 'SparseArray', 'SparseDtype', 'StringArray', 'ArrowStringArray', 'StringDtype', 'BooleanArray', 'BooleanDtype', 'Index', 'values', 'is_monotonic', 'is_monotonic_increasing', 'is_monotonic_decreasing', 'is_unique', 'has_duplicates', 'hasnans', 'dtype', 'inferred_type', 'is_all_dates', 'shape', 'name', 'names', 'nbytes', 'ndim', 'size', 'empty', 'T', 'memory_usage', 'all', 'any', 'argmin', 'argmax', 'copy', 'delete', 'drop', 'drop_duplicates', 'duplicated', 'equals', 'factorize', 'identical', 'insert', 'is_', 'is_boolean', 'is_categorical', 'is_floating', 'is_integer', 'is_interval', 'is_mixed', 'is_numeric', 'is_object', 'min', 'max', 'reindex', 'rename', 'repeat', 'where', 'take', 'putmask', 'unique', 'nunique', 'value_counts', 'set_names', 'droplevel', 'fillna', 'dropna', 'isna', 'notna', 'astype', 'item', 'map', 'ravel', 'to_list', 'to_native_types', 'to_series', 'to_frame', 'view', 'argsort', 'searchsorted', 'sort_values', 'shift', 'append', 'join', 'intersection', 'union', 'difference', 'symmetric_difference', 'asof', 'asof_locs', 'get_indexer', 'get_indexer_for', 'get_indexer_non_unique', 'get_level_values', 'get_loc', 'get_slice_bound', 'get_value', 'isin', 'slice_indexer', 'slice_locs', 'RangeIndex', 'Int64Index', 'UInt64Index', 'Float64Index', 'start', 'stop', 'step', 'from_range', 'CategoricalIndex', 'codes', 'categories', 'ordered', 'rename_categories', 'reorder_categories', 'add_categories', 'remove_categories', 'remove_unused_categories', 'set_categories', 'as_ordered', 'as_unordered', 'map', 'equals', 'IntervalIndex', 'from_arrays', 'from_tuples', 'from_breaks', 'left', 'right', 'mid', 'closed', 'length', 'values', 'is_empty', 'is_non_overlapping_monotonic', 'is_overlapping', 'get_loc', 'get_indexer', 'set_closed', 'contains', 'overlaps', 'to_tuples', 'MultiIndex', 'IndexSlice', 'from_arrays', 'from_tuples', 'from_product', 'from_frame', 'names', 'levels', 'codes', 'nlevels', 'levshape', 'dtypes', 'set_levels', 'set_codes', 'to_flat_index', 'to_frame', 'sortlevel', 'droplevel', 'swaplevel', 'reorder_levels', 'remove_unused_levels', 'get_loc', 'get_locs', 'get_loc_level', 'get_indexer', 'get_level_values', 'DatetimeIndex', 'year', 'month', 'day', 'hour', 'minute', 'second', 'microsecond', 'nanosecond', 'date', 'time', 'timetz', 'dayofyear', 'day_of_year', 'weekofyear', 'week', 'dayofweek', 'day_of_week', 'weekday', 'quarter', 'tz', 'freq', 'freqstr', 'is_month_start', 'is_month_end', 'is_quarter_start', 'is_quarter_end', 'is_year_start', 'is_year_end', 'is_leap_year', 'inferred_freq', 'indexer_at_time', 'indexer_between_time', 'normalize', 'strftime', 'snap', 'tz_convert', 'tz_localize', 'round', 'floor', 'ceil', 'month_name', 'day_name', 'to_period', 'to_perioddelta', 'to_pydatetime', 'to_series', 'to_frame', 'mean', 'TimedeltaIndex', 'days', 'seconds', 'microseconds', 'nanoseconds', 'components', 'inferred_freq', 'to_pytimedelta', 'to_series', 'round', 'floor', 'ceil', 'to_frame', 'mean', 'PeriodIndex', 'day', 'dayofweek', 'day_of_week', 'dayofyear', 'day_of_year', 'days_in_month', 'daysinmonth', 'end_time', 'freq', 'freqstr', 'hour', 'is_leap_year', 'minute', 'month', 'quarter', 'qyear', 'second', 'start_time', 'week', 'weekday', 'weekofyear', 'year', 'asfreq', 'strftime', 'to_timestamp', '__iter__', 'groups', 'indices', 'get_group', 'Grouper', 'apply', 'agg', 'aggregate', 'aggregate', 'transform', 'transform', 'pipe', 'all', 'any', 'bfill', 'backfill', 'count', 'cumcount', 'cummax', 'cummin', 'cumprod', 'cumsum', 'ffill', 'first', 'head', 'last', 'max', 'mean', 'median', 'min', 'ngroup', 'nth', 'ohlc', 'pad', 'prod', 'rank', 'pct_change', 'size', 'sem', 'std', 'sum', 'var', 'tail', 'all', 'any', 'backfill', 'bfill', 'corr', 'count', 'cov', 'cumcount', 'cummax', 'cummin', 'cumprod', 'cumsum', 'describe', 'diff', 'ffill', 'fillna', 'filter', 'hist', 'idxmax', 'idxmin', 'mad', 'nunique', 'pad', 'pct_change', 'plot', 'quantile', 'rank', 'resample', 'sample', 'shift', 'size', 'skew', 'take', 'tshift', 'hist', 'nlargest', 'nsmallest', 'nunique', 'unique', 'value_counts', 'is_monotonic_increasing', 'is_monotonic_decreasing', 'corrwith', 'boxplot']\n"
     ]
    }
   ],
   "source": [
    "full_apli_list = []\n",
    "for apis in list_of_apis:\n",
    "    full_apli_list.extend(apis['apis'])\n",
    "    \n",
    "full_apli_list = [api.strip() for api in full_apli_list]\n",
    "print(full_apli_list)"
   ]
  },
  {
   "cell_type": "code",
   "execution_count": 7,
   "metadata": {},
   "outputs": [],
   "source": [
    "import ast"
   ]
  },
  {
   "cell_type": "code",
   "execution_count": 8,
   "metadata": {},
   "outputs": [],
   "source": [
    "import tokenize"
   ]
  },
  {
   "cell_type": "code",
   "execution_count": 9,
   "metadata": {},
   "outputs": [
    {
     "name": "stdout",
     "output_type": "stream",
     "text": [
      "59 58 4 5 6 0\n"
     ]
    }
   ],
   "source": [
    "from io import BytesIO\n",
    "import tokenize\n",
    "print(tokenize.ENCODING, tokenize.NL, tokenize.NEWLINE, tokenize.INDENT, tokenize.DEDENT, tokenize.ENDMARKER)\n",
    "\n",
    "my_code = \"\"\"\n",
    "'''\n",
    "adsfsdf\n",
    "'''\n",
    "def python_code_tokenize(full_code_text):\n",
    "    g = tokenize.tokenize(BytesIO(full_code_text.encode('utf-8')).readline)\n",
    "    tokens = []\n",
    "    prev_token = None\n",
    "    try:\n",
    "        for x in g:\n",
    "            if x.type == tokenize.ENDMARKER:  # End Marker\n",
    "                continue\n",
    "            # if x.type == tokenize.COMMENT:\n",
    "            #     continue\n",
    "            elif x.type == tokenize.NEWLINE:\n",
    "                tokens.append('NEW_LINE')\n",
    "            elif x.type == tokenize.INDENT:\n",
    "                tokens.append(\"INDENT\")\n",
    "            elif x.type == tokenize.DEDENT:\n",
    "                tokens.append('DEDENT')\n",
    "            elif x.type == tokenize.STRING:  # String\n",
    "                s = x.string.strip()\n",
    "                if s.startswith('\\\"\\\"\\\"') or s.startswith(\"'''\"):\n",
    "                    if prev_token is not None and (prev_token == '=' or prev_token == '(' or prev_token == ','):\n",
    "                        tokens.append(s)\n",
    "                    continue\n",
    "                tokens.append(s)\n",
    "                pass\n",
    "            elif x.type == tokenize.NL:\n",
    "                continue\n",
    "            elif x.type < 57:\n",
    "                tokens.append(x.string)\n",
    "            prev_token = x.string.strip()\n",
    "    except:\n",
    "        return []\n",
    "        pass\n",
    "return tokens\n",
    "\"\"\"\n",
    "def python_code_tokenize(full_code_text):\n",
    "        '''\n",
    "        :param full_code_text:\n",
    "        :return:\n",
    "        '''\n",
    "        g = tokenize.tokenize(BytesIO(full_code_text.encode('utf-8')).readline)\n",
    "        tokens = []\n",
    "        prev_token = None\n",
    "        for x in g:\n",
    "            if x.type == tokenize.ENDMARKER:  # End Marker\n",
    "                continue\n",
    "            elif x.type == tokenize.NEWLINE:\n",
    "                tokens.append('NEW_LINE')\n",
    "            elif x.type == tokenize.INDENT:\n",
    "                tokens.append('INDENT')\n",
    "            elif x.type == tokenize.DEDENT:\n",
    "                tokens.append('DEDENT')\n",
    "            elif x.type == tokenize.STRING:  # String\n",
    "                s = x.string.strip()\n",
    "                if s.startswith('\"\"\"') or s.startswith(\"'''\"):\n",
    "                    if prev_token is not None and (prev_token == '=' or prev_token == '(' or prev_token == ','):\n",
    "                        tokens.append(x.string)\n",
    "                    continue\n",
    "                tokens.append(x.string)\n",
    "                pass\n",
    "            elif x.string == '\\n':\n",
    "                continue\n",
    "            elif x.type < 57:\n",
    "                tokens.append(x.string)\n",
    "            prev_token = x.string.strip()\n",
    "        return tokens\n",
    "\n",
    "\n",
    "def detokenize_python_code(tokens):\n",
    "    indent_count = 0\n",
    "    converted_tokens = []\n",
    "    l = len(tokens)\n",
    "    i = 0\n",
    "    while i < l:\n",
    "        t = tokens[i]\n",
    "        if t == \"NEW_LINE\":\n",
    "            converted_tokens.append(\"\\n\")\n",
    "            for _ in range(indent_count):\n",
    "                converted_tokens.append(\"  \")\n",
    "        elif t == \"INDENT\":\n",
    "            converted_tokens.append(\"  \")\n",
    "            indent_count += 1\n",
    "        elif t == \"DEDENT\":\n",
    "            if converted_tokens[-1] == \"  \":\n",
    "                converted_tokens = converted_tokens[:-1]\n",
    "            indent_count -= 1\n",
    "        elif t == \".\":\n",
    "            if i+1 < l:\n",
    "                token = converted_tokens[-1] + \".\" + tokens[i+1]\n",
    "                converted_tokens = converted_tokens[:-1]\n",
    "                converted_tokens.append(token)\n",
    "                i += 1\n",
    "            else:\n",
    "                converted_tokens.append(\".\")\n",
    "        else:\n",
    "            converted_tokens.append(t)\n",
    "        i += 1\n",
    "    return \" \".join(converted_tokens)\n",
    "\n",
    "import keyword\n",
    "\n",
    "def get_names(tokenized_code):\n",
    "    tokens = tokenized_code.split()\n",
    "    org_code = detokenize_python_code(tokens)\n",
    "    names = []\n",
    "    g = tokenize.tokenize(BytesIO(org_code.encode('utf-8')).readline)\n",
    "    for x in g:\n",
    "        if x.type == tokenize.NAME:\n",
    "            st = x.string.strip()\n",
    "            if st not in keyword.kwlist:\n",
    "                names.append(st)\n",
    "    return \" <s> \".join(sorted(list(set(names))))\n",
    "\n",
    "# get_names(\" \".join(python_code_tokenize(my_code)))\n",
    "# names = get_names(\" \".join())"
   ]
  },
  {
   "cell_type": "code",
   "execution_count": 10,
   "metadata": {},
   "outputs": [
    {
     "name": "stdout",
     "output_type": "stream",
     "text": [
      "DataFrame|index|columns|dtypes|info|select_dtypes|values|axes|ndim|size|shape|memory_usage|empty|set_flags|astype|convert_dtypes|infer_objects|copy|bool|head|at|iat|loc|iloc|insert|__iter__|items|iteritems|keys|iterrows|itertuples|lookup|pop|tail|xs|get|isin|where|mask|query|add|sub|mul|div|truediv|floordiv|mod|pow|dot|radd|rsub|rmul|rdiv|rtruediv|rfloordiv|rmod|rpow|lt|gt|le|ge|ne|eq|combine|combine_first|apply|applymap|pipe|agg|aggregate|transform|groupby|rolling|expanding|ewm|abs|all|any|clip|corr|corrwith|count|cov|cummax|cummin|cumprod|cumsum|describe|diff|eval|kurt|kurtosis|mad|max|mean|median|min|mode|pct_change|prod|product|quantile|rank|round|sem|skew|sum|std|var|nunique|value_counts|add_prefix|add_suffix|align|at_time|between_time|drop|drop_duplicates|duplicated|equals|filter|first|head|idxmax|idxmin|last|reindex|reindex_like|rename|rename_axis|reset_index|sample|set_axis|set_index|tail|take|truncate|backfill|bfill|dropna|ffill|fillna|interpolate|isna|isnull|notna|notnull|pad|replace|droplevel|pivot|pivot_table|reorder_levels|sort_values|sort_index|nlargest|nsmallest|swaplevel|stack|unstack|swapaxes|melt|explode|squeeze|to_xarray|T|transpose|append|assign|compare|join|merge|update|asfreq|asof|shift|slice_shift|tshift|first_valid_index|last_valid_index|resample|to_period|to_timestamp|tz_convert|tz_localize|Flags|attrs|plot|plot.area|plot.bar|plot.barh|plot.box|plot.density|plot.hexbin|plot.hist|plot.kde|plot.line|plot.pie|plot.scatter|boxplot|hist|sparse.density|sparse.from_spmatrix|sparse.to_coo|sparse.to_dense|from_dict|from_records|to_parquet|to_pickle|to_csv|to_hdf|to_sql|to_dict|to_excel|to_json|to_html|to_feather|to_latex|to_stata|to_gbq|to_records|to_string|to_clipboard|to_markdown|style\n"
     ]
    }
   ],
   "source": [
    "data_frame_api_re = \"|\".join(data_frame_apis)\n",
    "print(data_frame_api_re)"
   ]
  },
  {
   "cell_type": "code",
   "execution_count": 43,
   "metadata": {},
   "outputs": [
    {
     "data": {
      "application/vnd.jupyter.widget-view+json": {
       "model_id": "90ffa3807ba145598e3e127badd85bd4",
       "version_major": 2,
       "version_minor": 0
      },
      "text/plain": [
       "  0%|          | 0/206 [00:00<?, ?it/s]"
      ]
     },
     "metadata": {},
     "output_type": "display_data"
    },
    {
     "data": {
      "application/vnd.jupyter.widget-view+json": {
       "model_id": "f5a8adcb185541eca2c005653a55ae85",
       "version_major": 2,
       "version_minor": 0
      },
      "text/plain": [
       "  0%|          | 0/217 [00:00<?, ?it/s]"
      ]
     },
     "metadata": {},
     "output_type": "display_data"
    },
    {
     "data": {
      "application/vnd.jupyter.widget-view+json": {
       "model_id": "6ba43ba8140946cc9c835e401db14ad3",
       "version_major": 2,
       "version_minor": 0
      },
      "text/plain": [
       "  0%|          | 0/236 [00:00<?, ?it/s]"
      ]
     },
     "metadata": {},
     "output_type": "display_data"
    },
    {
     "name": "stdout",
     "output_type": "stream",
     "text": [
      "0\n",
      "659 659\n"
     ]
    }
   ],
   "source": [
    "import json \n",
    "examples = []\n",
    "import re\n",
    "import nltk\n",
    "\n",
    "from tqdm.notebook import tqdm\n",
    "fail_count = 0\n",
    "example_id = 1\n",
    "id_to_link = {}\n",
    "\n",
    "for i in range(1, 4):\n",
    "    example_file = f\"25_K_Examples/part-{i}-output/taken_answers_with_all_details.json\"\n",
    "    data = json.load(open(example_file))\n",
    "    for e in tqdm(data):\n",
    "        try:\n",
    "            qtitle = e['formatted_input']['question']['title']\n",
    "            qdesc = e['formatted_input']['question']['ques_desc']\n",
    "            io = \" <s> \".join(e['formatted_input']['io'])\n",
    "            codes = e['formatted_input']['answer']['code']\n",
    "            apis = []\n",
    "            for c in codes:\n",
    "                tokens = nltk.wordpunct_tokenize(c)\n",
    "                for token in tokens:\n",
    "                    token = token.strip()\n",
    "                    if token in full_apli_list:\n",
    "                        apis.append(token)\n",
    "            api_seq = \" \".join(apis)\n",
    "            \n",
    "            question_apis = []\n",
    "            q_tokens = nltk.wordpunct_tokenize(qtitle)\n",
    "            q_tokens.extend(nltk.wordpunct_tokenize(qdesc))\n",
    "            for q_t in q_tokens:\n",
    "                q_t = q_t.strip()\n",
    "                if q_t in full_apli_list:\n",
    "                    question_apis.append(q_t)\n",
    "            examples.append({\n",
    "                'id': example_id,\n",
    "                'q': qtitle.strip(),\n",
    "                'd': qdesc.strip(),\n",
    "                'q_apis': \" \".join(question_apis),\n",
    "                \"io\":  re.sub(\"[ \\t\\n]+\", \" \", io),\n",
    "                \"apis\": api_seq,\n",
    "                'code': codes,\n",
    "                'link': e['link']\n",
    "            })\n",
    "            id_to_link[example_id] = e['link']\n",
    "            example_id += 1\n",
    "        except Exception as ex:\n",
    "            print(ex)\n",
    "            fail_count += 1\n",
    "            \n",
    "print(fail_count)\n",
    "print(len(examples), len(id_to_link))"
   ]
  },
  {
   "cell_type": "code",
   "execution_count": 44,
   "metadata": {},
   "outputs": [],
   "source": [
    "import numpy as np\n",
    "def divide_ten_parts(indices, shuffle=True):\n",
    "    if shuffle:\n",
    "        np.random.shuffle(indices)\n",
    "    partition_indices = []\n",
    "    for i in range(10):\n",
    "        ps = int(0.1 * i * len(indices))\n",
    "        es = int(0.1 * (i + 1) * len(indices))\n",
    "        train_indices = indices[0:ps]\n",
    "        test_indices = indices[ps:es]\n",
    "        train_indices.extend(indices[es:])\n",
    "        valid_indices = train_indices[:int(0.1 * len(train_indices))]\n",
    "        train_indices = train_indices[int(0.1 * len(train_indices)):]\n",
    "        partition_indices.append((train_indices, valid_indices, test_indices))\n",
    "    return partition_indices\n",
    "\n",
    "\n",
    "partitions = divide_ten_parts(examples, shuffle=True)"
   ]
  },
  {
   "cell_type": "code",
   "execution_count": 45,
   "metadata": {},
   "outputs": [],
   "source": [
    "import os \n",
    "\n",
    "os.makedirs(\"PLBART_EXPERIMENT/\", exist_ok=True)"
   ]
  },
  {
   "cell_type": "code",
   "execution_count": 46,
   "metadata": {},
   "outputs": [],
   "source": [
    "def write_examples(examples, d, part):\n",
    "    _file = open(os.path.join(d, f\"{part}.data\"), 'w')\n",
    "    for ex in examples:\n",
    "        _file.write(json.dumps(ex) + \"\\n\")\n",
    "    _file.close()\n",
    "\n",
    "for i, (tr, val, te) in enumerate(partitions):\n",
    "    data_dir = f\"PLBART_EXPERIMENT/DATA/part_{i}\"\n",
    "    os.makedirs(data_dir, exist_ok=True)\n",
    "    write_examples(tr, data_dir, 'train')\n",
    "    write_examples(val, data_dir, 'valid')\n",
    "    write_examples(te, data_dir, 'test')\n",
    "    \n",
    "fp = open(\"PLBART_EXPERIMENT/DATA/id_to_link.json\", 'w')\n",
    "json.dump(id_to_link, fp, indent=4)\n",
    "fp.close()"
   ]
  },
  {
   "cell_type": "code",
   "execution_count": 50,
   "metadata": {},
   "outputs": [
    {
     "data": {
      "application/vnd.jupyter.widget-view+json": {
       "model_id": "021fd8ada61b42ccbf93284a285d4437",
       "version_major": 2,
       "version_minor": 0
      },
      "text/plain": [
       "Processing:   0%|          | 0/535 [00:00<?, ?it/s]"
      ]
     },
     "metadata": {},
     "output_type": "display_data"
    },
    {
     "data": {
      "application/vnd.jupyter.widget-view+json": {
       "model_id": "cad0b43d142242eea89eecd339e580fd",
       "version_major": 2,
       "version_minor": 0
      },
      "text/plain": [
       "Processing:   0%|          | 0/535 [00:00<?, ?it/s]"
      ]
     },
     "metadata": {},
     "output_type": "display_data"
    },
    {
     "data": {
      "application/vnd.jupyter.widget-view+json": {
       "model_id": "54279601aebf4239a489440a030a593b",
       "version_major": 2,
       "version_minor": 0
      },
      "text/plain": [
       "Processing:   0%|          | 0/535 [00:00<?, ?it/s]"
      ]
     },
     "metadata": {},
     "output_type": "display_data"
    },
    {
     "data": {
      "application/vnd.jupyter.widget-view+json": {
       "model_id": "0ae7c6e4de564ad895e21f772331dfe2",
       "version_major": 2,
       "version_minor": 0
      },
      "text/plain": [
       "Processing:   0%|          | 0/535 [00:00<?, ?it/s]"
      ]
     },
     "metadata": {},
     "output_type": "display_data"
    },
    {
     "data": {
      "application/vnd.jupyter.widget-view+json": {
       "model_id": "7ef69ea05c52494eb29bf897060248e9",
       "version_major": 2,
       "version_minor": 0
      },
      "text/plain": [
       "Processing:   0%|          | 0/59 [00:00<?, ?it/s]"
      ]
     },
     "metadata": {},
     "output_type": "display_data"
    },
    {
     "data": {
      "application/vnd.jupyter.widget-view+json": {
       "model_id": "6b677024d2904114b55ac20c62002f1e",
       "version_major": 2,
       "version_minor": 0
      },
      "text/plain": [
       "Processing:   0%|          | 0/59 [00:00<?, ?it/s]"
      ]
     },
     "metadata": {},
     "output_type": "display_data"
    },
    {
     "data": {
      "application/vnd.jupyter.widget-view+json": {
       "model_id": "5c2226bc68934968bab2fc3e8143a44b",
       "version_major": 2,
       "version_minor": 0
      },
      "text/plain": [
       "Processing:   0%|          | 0/59 [00:00<?, ?it/s]"
      ]
     },
     "metadata": {},
     "output_type": "display_data"
    },
    {
     "data": {
      "application/vnd.jupyter.widget-view+json": {
       "model_id": "f4ea9a14a16e439499ea3ec523fcd277",
       "version_major": 2,
       "version_minor": 0
      },
      "text/plain": [
       "Processing:   0%|          | 0/59 [00:00<?, ?it/s]"
      ]
     },
     "metadata": {},
     "output_type": "display_data"
    },
    {
     "data": {
      "application/vnd.jupyter.widget-view+json": {
       "model_id": "7f5f915b69d14d71ae4e3a9bea8c7e1f",
       "version_major": 2,
       "version_minor": 0
      },
      "text/plain": [
       "Processing:   0%|          | 0/65 [00:00<?, ?it/s]"
      ]
     },
     "metadata": {},
     "output_type": "display_data"
    },
    {
     "data": {
      "application/vnd.jupyter.widget-view+json": {
       "model_id": "f5361851cc1944c5933e58d1d98e2a2d",
       "version_major": 2,
       "version_minor": 0
      },
      "text/plain": [
       "Processing:   0%|          | 0/65 [00:00<?, ?it/s]"
      ]
     },
     "metadata": {},
     "output_type": "display_data"
    },
    {
     "data": {
      "application/vnd.jupyter.widget-view+json": {
       "model_id": "595870bb279245409391aaaf0e6f4526",
       "version_major": 2,
       "version_minor": 0
      },
      "text/plain": [
       "Processing:   0%|          | 0/65 [00:00<?, ?it/s]"
      ]
     },
     "metadata": {},
     "output_type": "display_data"
    },
    {
     "data": {
      "application/vnd.jupyter.widget-view+json": {
       "model_id": "dc993c3ac796476989ab4d123e3d87b3",
       "version_major": 2,
       "version_minor": 0
      },
      "text/plain": [
       "Processing:   0%|          | 0/65 [00:00<?, ?it/s]"
      ]
     },
     "metadata": {},
     "output_type": "display_data"
    },
    {
     "data": {
      "application/vnd.jupyter.widget-view+json": {
       "model_id": "45e1ef4c679a4c10aa5f218e20c921d8",
       "version_major": 2,
       "version_minor": 0
      },
      "text/plain": [
       "Processing:   0%|          | 0/534 [00:00<?, ?it/s]"
      ]
     },
     "metadata": {},
     "output_type": "display_data"
    },
    {
     "data": {
      "application/vnd.jupyter.widget-view+json": {
       "model_id": "07aef9770927457d9054515113367935",
       "version_major": 2,
       "version_minor": 0
      },
      "text/plain": [
       "Processing:   0%|          | 0/534 [00:00<?, ?it/s]"
      ]
     },
     "metadata": {},
     "output_type": "display_data"
    },
    {
     "data": {
      "application/vnd.jupyter.widget-view+json": {
       "model_id": "a433a7c257634f72b3e61347de6b31a7",
       "version_major": 2,
       "version_minor": 0
      },
      "text/plain": [
       "Processing:   0%|          | 0/534 [00:00<?, ?it/s]"
      ]
     },
     "metadata": {},
     "output_type": "display_data"
    },
    {
     "data": {
      "application/vnd.jupyter.widget-view+json": {
       "model_id": "f988a83df98b484c8fa315d2b55e45a6",
       "version_major": 2,
       "version_minor": 0
      },
      "text/plain": [
       "Processing:   0%|          | 0/534 [00:00<?, ?it/s]"
      ]
     },
     "metadata": {},
     "output_type": "display_data"
    },
    {
     "data": {
      "application/vnd.jupyter.widget-view+json": {
       "model_id": "b0f4cb55e66947f9a7bdf083aa2aaa35",
       "version_major": 2,
       "version_minor": 0
      },
      "text/plain": [
       "Processing:   0%|          | 0/59 [00:00<?, ?it/s]"
      ]
     },
     "metadata": {},
     "output_type": "display_data"
    },
    {
     "data": {
      "application/vnd.jupyter.widget-view+json": {
       "model_id": "ace08413b940495a84eb798485462592",
       "version_major": 2,
       "version_minor": 0
      },
      "text/plain": [
       "Processing:   0%|          | 0/59 [00:00<?, ?it/s]"
      ]
     },
     "metadata": {},
     "output_type": "display_data"
    },
    {
     "data": {
      "application/vnd.jupyter.widget-view+json": {
       "model_id": "62fa603477674efe9c9ef2fbb05acfad",
       "version_major": 2,
       "version_minor": 0
      },
      "text/plain": [
       "Processing:   0%|          | 0/59 [00:00<?, ?it/s]"
      ]
     },
     "metadata": {},
     "output_type": "display_data"
    },
    {
     "data": {
      "application/vnd.jupyter.widget-view+json": {
       "model_id": "a7ef3a8daf214c619a4aaa54d2e79bc9",
       "version_major": 2,
       "version_minor": 0
      },
      "text/plain": [
       "Processing:   0%|          | 0/59 [00:00<?, ?it/s]"
      ]
     },
     "metadata": {},
     "output_type": "display_data"
    },
    {
     "data": {
      "application/vnd.jupyter.widget-view+json": {
       "model_id": "683389cf1d434d2e941f35442fbf873b",
       "version_major": 2,
       "version_minor": 0
      },
      "text/plain": [
       "Processing:   0%|          | 0/66 [00:00<?, ?it/s]"
      ]
     },
     "metadata": {},
     "output_type": "display_data"
    },
    {
     "data": {
      "application/vnd.jupyter.widget-view+json": {
       "model_id": "204ef8fa3334457786e7f2e6b69147bb",
       "version_major": 2,
       "version_minor": 0
      },
      "text/plain": [
       "Processing:   0%|          | 0/66 [00:00<?, ?it/s]"
      ]
     },
     "metadata": {},
     "output_type": "display_data"
    },
    {
     "data": {
      "application/vnd.jupyter.widget-view+json": {
       "model_id": "73d27b71bbd54971be1ecaea01563885",
       "version_major": 2,
       "version_minor": 0
      },
      "text/plain": [
       "Processing:   0%|          | 0/66 [00:00<?, ?it/s]"
      ]
     },
     "metadata": {},
     "output_type": "display_data"
    },
    {
     "data": {
      "application/vnd.jupyter.widget-view+json": {
       "model_id": "7fa92e646b54424882ec98c5a14aa9ab",
       "version_major": 2,
       "version_minor": 0
      },
      "text/plain": [
       "Processing:   0%|          | 0/66 [00:00<?, ?it/s]"
      ]
     },
     "metadata": {},
     "output_type": "display_data"
    },
    {
     "data": {
      "application/vnd.jupyter.widget-view+json": {
       "model_id": "6bb3103850944427a7ae3e1ba30e544c",
       "version_major": 2,
       "version_minor": 0
      },
      "text/plain": [
       "Processing:   0%|          | 0/534 [00:00<?, ?it/s]"
      ]
     },
     "metadata": {},
     "output_type": "display_data"
    },
    {
     "data": {
      "application/vnd.jupyter.widget-view+json": {
       "model_id": "da26f371805d40a6b2fea92c167c076c",
       "version_major": 2,
       "version_minor": 0
      },
      "text/plain": [
       "Processing:   0%|          | 0/534 [00:00<?, ?it/s]"
      ]
     },
     "metadata": {},
     "output_type": "display_data"
    },
    {
     "data": {
      "application/vnd.jupyter.widget-view+json": {
       "model_id": "bc0f3392161d4adc8d1f57a5f3bf0126",
       "version_major": 2,
       "version_minor": 0
      },
      "text/plain": [
       "Processing:   0%|          | 0/534 [00:00<?, ?it/s]"
      ]
     },
     "metadata": {},
     "output_type": "display_data"
    },
    {
     "data": {
      "application/vnd.jupyter.widget-view+json": {
       "model_id": "7ea6d5ac74394043a702100eb5d91a3e",
       "version_major": 2,
       "version_minor": 0
      },
      "text/plain": [
       "Processing:   0%|          | 0/534 [00:00<?, ?it/s]"
      ]
     },
     "metadata": {},
     "output_type": "display_data"
    },
    {
     "data": {
      "application/vnd.jupyter.widget-view+json": {
       "model_id": "bebbe9a048c944c5812238086a9570cb",
       "version_major": 2,
       "version_minor": 0
      },
      "text/plain": [
       "Processing:   0%|          | 0/59 [00:00<?, ?it/s]"
      ]
     },
     "metadata": {},
     "output_type": "display_data"
    },
    {
     "data": {
      "application/vnd.jupyter.widget-view+json": {
       "model_id": "e3a7eb897b3c47f6a250ecad41901dce",
       "version_major": 2,
       "version_minor": 0
      },
      "text/plain": [
       "Processing:   0%|          | 0/59 [00:00<?, ?it/s]"
      ]
     },
     "metadata": {},
     "output_type": "display_data"
    },
    {
     "data": {
      "application/vnd.jupyter.widget-view+json": {
       "model_id": "a47705f509aa4cf8abb2ef66f4f040ff",
       "version_major": 2,
       "version_minor": 0
      },
      "text/plain": [
       "Processing:   0%|          | 0/59 [00:00<?, ?it/s]"
      ]
     },
     "metadata": {},
     "output_type": "display_data"
    },
    {
     "data": {
      "application/vnd.jupyter.widget-view+json": {
       "model_id": "0eebc29e8be74473aeb930f544b5f51e",
       "version_major": 2,
       "version_minor": 0
      },
      "text/plain": [
       "Processing:   0%|          | 0/59 [00:00<?, ?it/s]"
      ]
     },
     "metadata": {},
     "output_type": "display_data"
    },
    {
     "data": {
      "application/vnd.jupyter.widget-view+json": {
       "model_id": "5fdb46e254f64dd69c9e04cdb422a713",
       "version_major": 2,
       "version_minor": 0
      },
      "text/plain": [
       "Processing:   0%|          | 0/66 [00:00<?, ?it/s]"
      ]
     },
     "metadata": {},
     "output_type": "display_data"
    },
    {
     "data": {
      "application/vnd.jupyter.widget-view+json": {
       "model_id": "84589734d9614ab58362c065cd0213c4",
       "version_major": 2,
       "version_minor": 0
      },
      "text/plain": [
       "Processing:   0%|          | 0/66 [00:00<?, ?it/s]"
      ]
     },
     "metadata": {},
     "output_type": "display_data"
    },
    {
     "data": {
      "application/vnd.jupyter.widget-view+json": {
       "model_id": "8fcb8e223e3a4862be8665ad04320f6b",
       "version_major": 2,
       "version_minor": 0
      },
      "text/plain": [
       "Processing:   0%|          | 0/66 [00:00<?, ?it/s]"
      ]
     },
     "metadata": {},
     "output_type": "display_data"
    },
    {
     "data": {
      "application/vnd.jupyter.widget-view+json": {
       "model_id": "9aaf27f55d0f449ea42995815b53264b",
       "version_major": 2,
       "version_minor": 0
      },
      "text/plain": [
       "Processing:   0%|          | 0/66 [00:00<?, ?it/s]"
      ]
     },
     "metadata": {},
     "output_type": "display_data"
    },
    {
     "data": {
      "application/vnd.jupyter.widget-view+json": {
       "model_id": "7f6922775ca24759afd1f69dc55a05fa",
       "version_major": 2,
       "version_minor": 0
      },
      "text/plain": [
       "Processing:   0%|          | 0/534 [00:00<?, ?it/s]"
      ]
     },
     "metadata": {},
     "output_type": "display_data"
    },
    {
     "data": {
      "application/vnd.jupyter.widget-view+json": {
       "model_id": "c3703ac679d948c08f9ee23b40a4384d",
       "version_major": 2,
       "version_minor": 0
      },
      "text/plain": [
       "Processing:   0%|          | 0/534 [00:00<?, ?it/s]"
      ]
     },
     "metadata": {},
     "output_type": "display_data"
    },
    {
     "data": {
      "application/vnd.jupyter.widget-view+json": {
       "model_id": "d7a716620a844669a94e1326660b8502",
       "version_major": 2,
       "version_minor": 0
      },
      "text/plain": [
       "Processing:   0%|          | 0/534 [00:00<?, ?it/s]"
      ]
     },
     "metadata": {},
     "output_type": "display_data"
    },
    {
     "data": {
      "application/vnd.jupyter.widget-view+json": {
       "model_id": "d98ec4f52e674616b6e5939c80c4f58c",
       "version_major": 2,
       "version_minor": 0
      },
      "text/plain": [
       "Processing:   0%|          | 0/534 [00:00<?, ?it/s]"
      ]
     },
     "metadata": {},
     "output_type": "display_data"
    },
    {
     "data": {
      "application/vnd.jupyter.widget-view+json": {
       "model_id": "18288532df674270bc8393737347a29c",
       "version_major": 2,
       "version_minor": 0
      },
      "text/plain": [
       "Processing:   0%|          | 0/59 [00:00<?, ?it/s]"
      ]
     },
     "metadata": {},
     "output_type": "display_data"
    },
    {
     "data": {
      "application/vnd.jupyter.widget-view+json": {
       "model_id": "96a6ceb294e240c88afad66f6ded58d2",
       "version_major": 2,
       "version_minor": 0
      },
      "text/plain": [
       "Processing:   0%|          | 0/59 [00:00<?, ?it/s]"
      ]
     },
     "metadata": {},
     "output_type": "display_data"
    },
    {
     "data": {
      "application/vnd.jupyter.widget-view+json": {
       "model_id": "ad19d1e4661846cca133a10e4a77a62c",
       "version_major": 2,
       "version_minor": 0
      },
      "text/plain": [
       "Processing:   0%|          | 0/59 [00:00<?, ?it/s]"
      ]
     },
     "metadata": {},
     "output_type": "display_data"
    },
    {
     "data": {
      "application/vnd.jupyter.widget-view+json": {
       "model_id": "6a16ff3b9fe94782b8fcd82376cb4925",
       "version_major": 2,
       "version_minor": 0
      },
      "text/plain": [
       "Processing:   0%|          | 0/59 [00:00<?, ?it/s]"
      ]
     },
     "metadata": {},
     "output_type": "display_data"
    },
    {
     "data": {
      "application/vnd.jupyter.widget-view+json": {
       "model_id": "4d36befb4eb04fcf8c7a5a3278849713",
       "version_major": 2,
       "version_minor": 0
      },
      "text/plain": [
       "Processing:   0%|          | 0/66 [00:00<?, ?it/s]"
      ]
     },
     "metadata": {},
     "output_type": "display_data"
    },
    {
     "data": {
      "application/vnd.jupyter.widget-view+json": {
       "model_id": "38a48bc173bd42459fa4cdcb21df22bd",
       "version_major": 2,
       "version_minor": 0
      },
      "text/plain": [
       "Processing:   0%|          | 0/66 [00:00<?, ?it/s]"
      ]
     },
     "metadata": {},
     "output_type": "display_data"
    },
    {
     "data": {
      "application/vnd.jupyter.widget-view+json": {
       "model_id": "fee050b69e5440b087bd79a8fadf6d33",
       "version_major": 2,
       "version_minor": 0
      },
      "text/plain": [
       "Processing:   0%|          | 0/66 [00:00<?, ?it/s]"
      ]
     },
     "metadata": {},
     "output_type": "display_data"
    },
    {
     "data": {
      "application/vnd.jupyter.widget-view+json": {
       "model_id": "478fd490275b416c86477aee908b9a6e",
       "version_major": 2,
       "version_minor": 0
      },
      "text/plain": [
       "Processing:   0%|          | 0/66 [00:00<?, ?it/s]"
      ]
     },
     "metadata": {},
     "output_type": "display_data"
    },
    {
     "data": {
      "application/vnd.jupyter.widget-view+json": {
       "model_id": "328124a5c4f948dfa6a245d6b515b2af",
       "version_major": 2,
       "version_minor": 0
      },
      "text/plain": [
       "Processing:   0%|          | 0/534 [00:00<?, ?it/s]"
      ]
     },
     "metadata": {},
     "output_type": "display_data"
    },
    {
     "data": {
      "application/vnd.jupyter.widget-view+json": {
       "model_id": "3659371f3f8b48269f38bf67bf7a0920",
       "version_major": 2,
       "version_minor": 0
      },
      "text/plain": [
       "Processing:   0%|          | 0/534 [00:00<?, ?it/s]"
      ]
     },
     "metadata": {},
     "output_type": "display_data"
    },
    {
     "data": {
      "application/vnd.jupyter.widget-view+json": {
       "model_id": "8006a2d8cf954b289de8d754a68fa124",
       "version_major": 2,
       "version_minor": 0
      },
      "text/plain": [
       "Processing:   0%|          | 0/534 [00:00<?, ?it/s]"
      ]
     },
     "metadata": {},
     "output_type": "display_data"
    },
    {
     "data": {
      "application/vnd.jupyter.widget-view+json": {
       "model_id": "b84d52add53b40039059b241c0a72996",
       "version_major": 2,
       "version_minor": 0
      },
      "text/plain": [
       "Processing:   0%|          | 0/534 [00:00<?, ?it/s]"
      ]
     },
     "metadata": {},
     "output_type": "display_data"
    },
    {
     "data": {
      "application/vnd.jupyter.widget-view+json": {
       "model_id": "c656fcce248547b583e1bcfbf6ffb53f",
       "version_major": 2,
       "version_minor": 0
      },
      "text/plain": [
       "Processing:   0%|          | 0/59 [00:00<?, ?it/s]"
      ]
     },
     "metadata": {},
     "output_type": "display_data"
    },
    {
     "data": {
      "application/vnd.jupyter.widget-view+json": {
       "model_id": "ad01a5ddf0d7433cbf0a8e09b4b9837e",
       "version_major": 2,
       "version_minor": 0
      },
      "text/plain": [
       "Processing:   0%|          | 0/59 [00:00<?, ?it/s]"
      ]
     },
     "metadata": {},
     "output_type": "display_data"
    },
    {
     "data": {
      "application/vnd.jupyter.widget-view+json": {
       "model_id": "1e04c5910ec242d3bd261c37aad06642",
       "version_major": 2,
       "version_minor": 0
      },
      "text/plain": [
       "Processing:   0%|          | 0/59 [00:00<?, ?it/s]"
      ]
     },
     "metadata": {},
     "output_type": "display_data"
    },
    {
     "data": {
      "application/vnd.jupyter.widget-view+json": {
       "model_id": "10a3b3c66c8945d78a5cbed42ef7c2b8",
       "version_major": 2,
       "version_minor": 0
      },
      "text/plain": [
       "Processing:   0%|          | 0/59 [00:00<?, ?it/s]"
      ]
     },
     "metadata": {},
     "output_type": "display_data"
    },
    {
     "data": {
      "application/vnd.jupyter.widget-view+json": {
       "model_id": "5576e6b6d6ea470292aabd0a415a6f16",
       "version_major": 2,
       "version_minor": 0
      },
      "text/plain": [
       "Processing:   0%|          | 0/66 [00:00<?, ?it/s]"
      ]
     },
     "metadata": {},
     "output_type": "display_data"
    },
    {
     "data": {
      "application/vnd.jupyter.widget-view+json": {
       "model_id": "9110b776d30e45089c0f54a84277bbb7",
       "version_major": 2,
       "version_minor": 0
      },
      "text/plain": [
       "Processing:   0%|          | 0/66 [00:00<?, ?it/s]"
      ]
     },
     "metadata": {},
     "output_type": "display_data"
    },
    {
     "data": {
      "application/vnd.jupyter.widget-view+json": {
       "model_id": "cded9618f7884cfab19a729f7ef0891b",
       "version_major": 2,
       "version_minor": 0
      },
      "text/plain": [
       "Processing:   0%|          | 0/66 [00:00<?, ?it/s]"
      ]
     },
     "metadata": {},
     "output_type": "display_data"
    },
    {
     "data": {
      "application/vnd.jupyter.widget-view+json": {
       "model_id": "e64a5a50e875424898e4e8b9685466db",
       "version_major": 2,
       "version_minor": 0
      },
      "text/plain": [
       "Processing:   0%|          | 0/66 [00:00<?, ?it/s]"
      ]
     },
     "metadata": {},
     "output_type": "display_data"
    },
    {
     "data": {
      "application/vnd.jupyter.widget-view+json": {
       "model_id": "5a122b36d45645d0a9dd70ca630e4782",
       "version_major": 2,
       "version_minor": 0
      },
      "text/plain": [
       "Processing:   0%|          | 0/534 [00:00<?, ?it/s]"
      ]
     },
     "metadata": {},
     "output_type": "display_data"
    },
    {
     "data": {
      "application/vnd.jupyter.widget-view+json": {
       "model_id": "903f996edf4d426db12962444faa6a37",
       "version_major": 2,
       "version_minor": 0
      },
      "text/plain": [
       "Processing:   0%|          | 0/534 [00:00<?, ?it/s]"
      ]
     },
     "metadata": {},
     "output_type": "display_data"
    },
    {
     "data": {
      "application/vnd.jupyter.widget-view+json": {
       "model_id": "3455f85b5f4e463faae03679c7b0dc9a",
       "version_major": 2,
       "version_minor": 0
      },
      "text/plain": [
       "Processing:   0%|          | 0/534 [00:00<?, ?it/s]"
      ]
     },
     "metadata": {},
     "output_type": "display_data"
    },
    {
     "data": {
      "application/vnd.jupyter.widget-view+json": {
       "model_id": "2d8fc9d6b9a64187b60272715a79a87b",
       "version_major": 2,
       "version_minor": 0
      },
      "text/plain": [
       "Processing:   0%|          | 0/534 [00:00<?, ?it/s]"
      ]
     },
     "metadata": {},
     "output_type": "display_data"
    },
    {
     "data": {
      "application/vnd.jupyter.widget-view+json": {
       "model_id": "32850ca3bbd04434bc9ee3b07d9df1c3",
       "version_major": 2,
       "version_minor": 0
      },
      "text/plain": [
       "Processing:   0%|          | 0/59 [00:00<?, ?it/s]"
      ]
     },
     "metadata": {},
     "output_type": "display_data"
    },
    {
     "data": {
      "application/vnd.jupyter.widget-view+json": {
       "model_id": "53164121c85f439a843deba502450b85",
       "version_major": 2,
       "version_minor": 0
      },
      "text/plain": [
       "Processing:   0%|          | 0/59 [00:00<?, ?it/s]"
      ]
     },
     "metadata": {},
     "output_type": "display_data"
    },
    {
     "data": {
      "application/vnd.jupyter.widget-view+json": {
       "model_id": "fd13aabadeee4d1eb79c1f8405d45852",
       "version_major": 2,
       "version_minor": 0
      },
      "text/plain": [
       "Processing:   0%|          | 0/59 [00:00<?, ?it/s]"
      ]
     },
     "metadata": {},
     "output_type": "display_data"
    },
    {
     "data": {
      "application/vnd.jupyter.widget-view+json": {
       "model_id": "e1ddd66472204fb68becff7b63a1828d",
       "version_major": 2,
       "version_minor": 0
      },
      "text/plain": [
       "Processing:   0%|          | 0/59 [00:00<?, ?it/s]"
      ]
     },
     "metadata": {},
     "output_type": "display_data"
    },
    {
     "data": {
      "application/vnd.jupyter.widget-view+json": {
       "model_id": "6d0c8a78f755492986120d676927b573",
       "version_major": 2,
       "version_minor": 0
      },
      "text/plain": [
       "Processing:   0%|          | 0/66 [00:00<?, ?it/s]"
      ]
     },
     "metadata": {},
     "output_type": "display_data"
    },
    {
     "data": {
      "application/vnd.jupyter.widget-view+json": {
       "model_id": "b81f34549f214c1e818a78ceb102f39f",
       "version_major": 2,
       "version_minor": 0
      },
      "text/plain": [
       "Processing:   0%|          | 0/66 [00:00<?, ?it/s]"
      ]
     },
     "metadata": {},
     "output_type": "display_data"
    },
    {
     "data": {
      "application/vnd.jupyter.widget-view+json": {
       "model_id": "731cf420c20a4da397c98332fdf52525",
       "version_major": 2,
       "version_minor": 0
      },
      "text/plain": [
       "Processing:   0%|          | 0/66 [00:00<?, ?it/s]"
      ]
     },
     "metadata": {},
     "output_type": "display_data"
    },
    {
     "data": {
      "application/vnd.jupyter.widget-view+json": {
       "model_id": "5ff1fd146ca94b50959b7f40c5c03796",
       "version_major": 2,
       "version_minor": 0
      },
      "text/plain": [
       "Processing:   0%|          | 0/66 [00:00<?, ?it/s]"
      ]
     },
     "metadata": {},
     "output_type": "display_data"
    },
    {
     "data": {
      "application/vnd.jupyter.widget-view+json": {
       "model_id": "991e4622934a4febb721565494e1c2b3",
       "version_major": 2,
       "version_minor": 0
      },
      "text/plain": [
       "Processing:   0%|          | 0/534 [00:00<?, ?it/s]"
      ]
     },
     "metadata": {},
     "output_type": "display_data"
    },
    {
     "data": {
      "application/vnd.jupyter.widget-view+json": {
       "model_id": "c582edede28e481fb6d6c58002ecbab5",
       "version_major": 2,
       "version_minor": 0
      },
      "text/plain": [
       "Processing:   0%|          | 0/534 [00:00<?, ?it/s]"
      ]
     },
     "metadata": {},
     "output_type": "display_data"
    },
    {
     "data": {
      "application/vnd.jupyter.widget-view+json": {
       "model_id": "1cd97d6801af4a92826b39f69e467f1a",
       "version_major": 2,
       "version_minor": 0
      },
      "text/plain": [
       "Processing:   0%|          | 0/534 [00:00<?, ?it/s]"
      ]
     },
     "metadata": {},
     "output_type": "display_data"
    },
    {
     "data": {
      "application/vnd.jupyter.widget-view+json": {
       "model_id": "230520158aa649388b1d41ff4fee9e73",
       "version_major": 2,
       "version_minor": 0
      },
      "text/plain": [
       "Processing:   0%|          | 0/534 [00:00<?, ?it/s]"
      ]
     },
     "metadata": {},
     "output_type": "display_data"
    },
    {
     "data": {
      "application/vnd.jupyter.widget-view+json": {
       "model_id": "754778a39c35475da7917bc82aa1c0e5",
       "version_major": 2,
       "version_minor": 0
      },
      "text/plain": [
       "Processing:   0%|          | 0/59 [00:00<?, ?it/s]"
      ]
     },
     "metadata": {},
     "output_type": "display_data"
    },
    {
     "data": {
      "application/vnd.jupyter.widget-view+json": {
       "model_id": "f2f9331854d04b459eef14b95e3ab15d",
       "version_major": 2,
       "version_minor": 0
      },
      "text/plain": [
       "Processing:   0%|          | 0/59 [00:00<?, ?it/s]"
      ]
     },
     "metadata": {},
     "output_type": "display_data"
    },
    {
     "data": {
      "application/vnd.jupyter.widget-view+json": {
       "model_id": "193383fbba124a3aa0890b398670c484",
       "version_major": 2,
       "version_minor": 0
      },
      "text/plain": [
       "Processing:   0%|          | 0/59 [00:00<?, ?it/s]"
      ]
     },
     "metadata": {},
     "output_type": "display_data"
    },
    {
     "data": {
      "application/vnd.jupyter.widget-view+json": {
       "model_id": "9c2e5a9a80da4768913e0287b38d1624",
       "version_major": 2,
       "version_minor": 0
      },
      "text/plain": [
       "Processing:   0%|          | 0/59 [00:00<?, ?it/s]"
      ]
     },
     "metadata": {},
     "output_type": "display_data"
    },
    {
     "data": {
      "application/vnd.jupyter.widget-view+json": {
       "model_id": "c6374c5d67ee45ca97badc233f1c2314",
       "version_major": 2,
       "version_minor": 0
      },
      "text/plain": [
       "Processing:   0%|          | 0/66 [00:00<?, ?it/s]"
      ]
     },
     "metadata": {},
     "output_type": "display_data"
    },
    {
     "data": {
      "application/vnd.jupyter.widget-view+json": {
       "model_id": "0be74f4f89d94f8981b4ef9807dd85ea",
       "version_major": 2,
       "version_minor": 0
      },
      "text/plain": [
       "Processing:   0%|          | 0/66 [00:00<?, ?it/s]"
      ]
     },
     "metadata": {},
     "output_type": "display_data"
    },
    {
     "data": {
      "application/vnd.jupyter.widget-view+json": {
       "model_id": "b6819d65c2be4eba9a8a1d5bd104a528",
       "version_major": 2,
       "version_minor": 0
      },
      "text/plain": [
       "Processing:   0%|          | 0/66 [00:00<?, ?it/s]"
      ]
     },
     "metadata": {},
     "output_type": "display_data"
    },
    {
     "data": {
      "application/vnd.jupyter.widget-view+json": {
       "model_id": "2da992ddff3341e19e66da529684d8cd",
       "version_major": 2,
       "version_minor": 0
      },
      "text/plain": [
       "Processing:   0%|          | 0/66 [00:00<?, ?it/s]"
      ]
     },
     "metadata": {},
     "output_type": "display_data"
    },
    {
     "data": {
      "application/vnd.jupyter.widget-view+json": {
       "model_id": "e88f898d802c4fd8a9035f8ad3364e0c",
       "version_major": 2,
       "version_minor": 0
      },
      "text/plain": [
       "Processing:   0%|          | 0/534 [00:00<?, ?it/s]"
      ]
     },
     "metadata": {},
     "output_type": "display_data"
    },
    {
     "data": {
      "application/vnd.jupyter.widget-view+json": {
       "model_id": "9a52a803005345539bf681d6bb446166",
       "version_major": 2,
       "version_minor": 0
      },
      "text/plain": [
       "Processing:   0%|          | 0/534 [00:00<?, ?it/s]"
      ]
     },
     "metadata": {},
     "output_type": "display_data"
    },
    {
     "data": {
      "application/vnd.jupyter.widget-view+json": {
       "model_id": "6f9417687d184d9fad3d90973f0187fd",
       "version_major": 2,
       "version_minor": 0
      },
      "text/plain": [
       "Processing:   0%|          | 0/534 [00:00<?, ?it/s]"
      ]
     },
     "metadata": {},
     "output_type": "display_data"
    },
    {
     "data": {
      "application/vnd.jupyter.widget-view+json": {
       "model_id": "487a91c3bf184139a9937f09a84a69f7",
       "version_major": 2,
       "version_minor": 0
      },
      "text/plain": [
       "Processing:   0%|          | 0/534 [00:00<?, ?it/s]"
      ]
     },
     "metadata": {},
     "output_type": "display_data"
    },
    {
     "data": {
      "application/vnd.jupyter.widget-view+json": {
       "model_id": "e6e5be5d82fe47f895279e2aaa78b990",
       "version_major": 2,
       "version_minor": 0
      },
      "text/plain": [
       "Processing:   0%|          | 0/59 [00:00<?, ?it/s]"
      ]
     },
     "metadata": {},
     "output_type": "display_data"
    },
    {
     "data": {
      "application/vnd.jupyter.widget-view+json": {
       "model_id": "8636a1abf5994209aef46c9117f443ec",
       "version_major": 2,
       "version_minor": 0
      },
      "text/plain": [
       "Processing:   0%|          | 0/59 [00:00<?, ?it/s]"
      ]
     },
     "metadata": {},
     "output_type": "display_data"
    },
    {
     "data": {
      "application/vnd.jupyter.widget-view+json": {
       "model_id": "aad29a8a4dca4408bd09d73ea05080b8",
       "version_major": 2,
       "version_minor": 0
      },
      "text/plain": [
       "Processing:   0%|          | 0/59 [00:00<?, ?it/s]"
      ]
     },
     "metadata": {},
     "output_type": "display_data"
    },
    {
     "data": {
      "application/vnd.jupyter.widget-view+json": {
       "model_id": "4102d8af1b28413bbfed1cb59985e088",
       "version_major": 2,
       "version_minor": 0
      },
      "text/plain": [
       "Processing:   0%|          | 0/59 [00:00<?, ?it/s]"
      ]
     },
     "metadata": {},
     "output_type": "display_data"
    },
    {
     "data": {
      "application/vnd.jupyter.widget-view+json": {
       "model_id": "d7b96976f3184ba7a4d56fd8801a77dc",
       "version_major": 2,
       "version_minor": 0
      },
      "text/plain": [
       "Processing:   0%|          | 0/66 [00:00<?, ?it/s]"
      ]
     },
     "metadata": {},
     "output_type": "display_data"
    },
    {
     "data": {
      "application/vnd.jupyter.widget-view+json": {
       "model_id": "afa35af2b6284cacab72132b7b75d28e",
       "version_major": 2,
       "version_minor": 0
      },
      "text/plain": [
       "Processing:   0%|          | 0/66 [00:00<?, ?it/s]"
      ]
     },
     "metadata": {},
     "output_type": "display_data"
    },
    {
     "data": {
      "application/vnd.jupyter.widget-view+json": {
       "model_id": "324aefed697744ab840040f01320cd59",
       "version_major": 2,
       "version_minor": 0
      },
      "text/plain": [
       "Processing:   0%|          | 0/66 [00:00<?, ?it/s]"
      ]
     },
     "metadata": {},
     "output_type": "display_data"
    },
    {
     "data": {
      "application/vnd.jupyter.widget-view+json": {
       "model_id": "af4ece4dfd2d44919df1748c3a6842e9",
       "version_major": 2,
       "version_minor": 0
      },
      "text/plain": [
       "Processing:   0%|          | 0/66 [00:00<?, ?it/s]"
      ]
     },
     "metadata": {},
     "output_type": "display_data"
    },
    {
     "data": {
      "application/vnd.jupyter.widget-view+json": {
       "model_id": "b6074ae28bc44ce2bbed47e8155f36f6",
       "version_major": 2,
       "version_minor": 0
      },
      "text/plain": [
       "Processing:   0%|          | 0/534 [00:00<?, ?it/s]"
      ]
     },
     "metadata": {},
     "output_type": "display_data"
    },
    {
     "data": {
      "application/vnd.jupyter.widget-view+json": {
       "model_id": "882dcb1847b24d59882c60244bb0e257",
       "version_major": 2,
       "version_minor": 0
      },
      "text/plain": [
       "Processing:   0%|          | 0/534 [00:00<?, ?it/s]"
      ]
     },
     "metadata": {},
     "output_type": "display_data"
    },
    {
     "data": {
      "application/vnd.jupyter.widget-view+json": {
       "model_id": "73b679a1245a4ca49a09d62fd24916a3",
       "version_major": 2,
       "version_minor": 0
      },
      "text/plain": [
       "Processing:   0%|          | 0/534 [00:00<?, ?it/s]"
      ]
     },
     "metadata": {},
     "output_type": "display_data"
    },
    {
     "data": {
      "application/vnd.jupyter.widget-view+json": {
       "model_id": "dda19875cf9a42089225444899b467e5",
       "version_major": 2,
       "version_minor": 0
      },
      "text/plain": [
       "Processing:   0%|          | 0/534 [00:00<?, ?it/s]"
      ]
     },
     "metadata": {},
     "output_type": "display_data"
    },
    {
     "data": {
      "application/vnd.jupyter.widget-view+json": {
       "model_id": "f12d139f4f324beb9e65ac9acd7c5832",
       "version_major": 2,
       "version_minor": 0
      },
      "text/plain": [
       "Processing:   0%|          | 0/59 [00:00<?, ?it/s]"
      ]
     },
     "metadata": {},
     "output_type": "display_data"
    },
    {
     "data": {
      "application/vnd.jupyter.widget-view+json": {
       "model_id": "194aa64b6eae4a4f9e1e77101f0e1c72",
       "version_major": 2,
       "version_minor": 0
      },
      "text/plain": [
       "Processing:   0%|          | 0/59 [00:00<?, ?it/s]"
      ]
     },
     "metadata": {},
     "output_type": "display_data"
    },
    {
     "data": {
      "application/vnd.jupyter.widget-view+json": {
       "model_id": "6e328042ec9c497e8a243cb59401074c",
       "version_major": 2,
       "version_minor": 0
      },
      "text/plain": [
       "Processing:   0%|          | 0/59 [00:00<?, ?it/s]"
      ]
     },
     "metadata": {},
     "output_type": "display_data"
    },
    {
     "data": {
      "application/vnd.jupyter.widget-view+json": {
       "model_id": "4bf44b43e4c84868a3990f9f440545fd",
       "version_major": 2,
       "version_minor": 0
      },
      "text/plain": [
       "Processing:   0%|          | 0/59 [00:00<?, ?it/s]"
      ]
     },
     "metadata": {},
     "output_type": "display_data"
    },
    {
     "data": {
      "application/vnd.jupyter.widget-view+json": {
       "model_id": "06edb8f6995041eaaac72aa1a8d07bb3",
       "version_major": 2,
       "version_minor": 0
      },
      "text/plain": [
       "Processing:   0%|          | 0/66 [00:00<?, ?it/s]"
      ]
     },
     "metadata": {},
     "output_type": "display_data"
    },
    {
     "data": {
      "application/vnd.jupyter.widget-view+json": {
       "model_id": "ea739e8541b140ea9836661585dfb2f2",
       "version_major": 2,
       "version_minor": 0
      },
      "text/plain": [
       "Processing:   0%|          | 0/66 [00:00<?, ?it/s]"
      ]
     },
     "metadata": {},
     "output_type": "display_data"
    },
    {
     "data": {
      "application/vnd.jupyter.widget-view+json": {
       "model_id": "733700d1527e403183f531217960c65f",
       "version_major": 2,
       "version_minor": 0
      },
      "text/plain": [
       "Processing:   0%|          | 0/66 [00:00<?, ?it/s]"
      ]
     },
     "metadata": {},
     "output_type": "display_data"
    },
    {
     "data": {
      "application/vnd.jupyter.widget-view+json": {
       "model_id": "560c7c55060d4f33b7dbe7a3b3a97342",
       "version_major": 2,
       "version_minor": 0
      },
      "text/plain": [
       "Processing:   0%|          | 0/66 [00:00<?, ?it/s]"
      ]
     },
     "metadata": {},
     "output_type": "display_data"
    },
    {
     "data": {
      "application/vnd.jupyter.widget-view+json": {
       "model_id": "c684009997fc425b8c272f286c4197cd",
       "version_major": 2,
       "version_minor": 0
      },
      "text/plain": [
       "Processing:   0%|          | 0/534 [00:00<?, ?it/s]"
      ]
     },
     "metadata": {},
     "output_type": "display_data"
    },
    {
     "data": {
      "application/vnd.jupyter.widget-view+json": {
       "model_id": "24390e74652144ef8de2eedba2f33cbe",
       "version_major": 2,
       "version_minor": 0
      },
      "text/plain": [
       "Processing:   0%|          | 0/534 [00:00<?, ?it/s]"
      ]
     },
     "metadata": {},
     "output_type": "display_data"
    },
    {
     "data": {
      "application/vnd.jupyter.widget-view+json": {
       "model_id": "15b292d308214c8fb22c7c52f68ece64",
       "version_major": 2,
       "version_minor": 0
      },
      "text/plain": [
       "Processing:   0%|          | 0/534 [00:00<?, ?it/s]"
      ]
     },
     "metadata": {},
     "output_type": "display_data"
    },
    {
     "data": {
      "application/vnd.jupyter.widget-view+json": {
       "model_id": "74c4359998824844b3c7bffb82488176",
       "version_major": 2,
       "version_minor": 0
      },
      "text/plain": [
       "Processing:   0%|          | 0/534 [00:00<?, ?it/s]"
      ]
     },
     "metadata": {},
     "output_type": "display_data"
    },
    {
     "data": {
      "application/vnd.jupyter.widget-view+json": {
       "model_id": "4bf8889ae90f492da197b71d0af1aa97",
       "version_major": 2,
       "version_minor": 0
      },
      "text/plain": [
       "Processing:   0%|          | 0/59 [00:00<?, ?it/s]"
      ]
     },
     "metadata": {},
     "output_type": "display_data"
    },
    {
     "data": {
      "application/vnd.jupyter.widget-view+json": {
       "model_id": "5b64f15b30c1431bb03fc7483c479d2b",
       "version_major": 2,
       "version_minor": 0
      },
      "text/plain": [
       "Processing:   0%|          | 0/59 [00:00<?, ?it/s]"
      ]
     },
     "metadata": {},
     "output_type": "display_data"
    },
    {
     "data": {
      "application/vnd.jupyter.widget-view+json": {
       "model_id": "7c46461fea0840b78cbe081dc93dc2a0",
       "version_major": 2,
       "version_minor": 0
      },
      "text/plain": [
       "Processing:   0%|          | 0/59 [00:00<?, ?it/s]"
      ]
     },
     "metadata": {},
     "output_type": "display_data"
    },
    {
     "data": {
      "application/vnd.jupyter.widget-view+json": {
       "model_id": "e1660d9a31fd48fba824b073afe9463d",
       "version_major": 2,
       "version_minor": 0
      },
      "text/plain": [
       "Processing:   0%|          | 0/59 [00:00<?, ?it/s]"
      ]
     },
     "metadata": {},
     "output_type": "display_data"
    },
    {
     "data": {
      "application/vnd.jupyter.widget-view+json": {
       "model_id": "9e682b2690614b66bb95f59cadeab912",
       "version_major": 2,
       "version_minor": 0
      },
      "text/plain": [
       "Processing:   0%|          | 0/66 [00:00<?, ?it/s]"
      ]
     },
     "metadata": {},
     "output_type": "display_data"
    },
    {
     "data": {
      "application/vnd.jupyter.widget-view+json": {
       "model_id": "6317324ef3024f8e8b38a4d9baefcbe3",
       "version_major": 2,
       "version_minor": 0
      },
      "text/plain": [
       "Processing:   0%|          | 0/66 [00:00<?, ?it/s]"
      ]
     },
     "metadata": {},
     "output_type": "display_data"
    },
    {
     "data": {
      "application/vnd.jupyter.widget-view+json": {
       "model_id": "ccffb11f265b4d23ab8cb219af06712b",
       "version_major": 2,
       "version_minor": 0
      },
      "text/plain": [
       "Processing:   0%|          | 0/66 [00:00<?, ?it/s]"
      ]
     },
     "metadata": {},
     "output_type": "display_data"
    },
    {
     "data": {
      "application/vnd.jupyter.widget-view+json": {
       "model_id": "3c772cb270ed4c2d967e487cecf92d9c",
       "version_major": 2,
       "version_minor": 0
      },
      "text/plain": [
       "Processing:   0%|          | 0/66 [00:00<?, ?it/s]"
      ]
     },
     "metadata": {},
     "output_type": "display_data"
    }
   ],
   "source": [
    "import argparse\n",
    "import json\n",
    "import os\n",
    "from tqdm.notebook import tqdm\n",
    "\n",
    "from multiprocessing import Pool\n",
    "import sentencepiece as spm\n",
    "\n",
    "import tokenize\n",
    "from io import BytesIO\n",
    "\n",
    "\n",
    "def python_code_tokenize(full_code_text):\n",
    "    '''\n",
    "    :param full_code_text:\n",
    "    :return:\n",
    "    '''\n",
    "    g = tokenize.tokenize(BytesIO(full_code_text.encode('utf-8')).readline)\n",
    "    tokens = []\n",
    "    prev_token = None\n",
    "    try:\n",
    "        for x in g:\n",
    "            if x.type == tokenize.ENDMARKER:  # End Marker\n",
    "                continue\n",
    "            # if x.type == tokenize.COMMENT:\n",
    "            #     continue\n",
    "            elif x.type == tokenize.NEWLINE:\n",
    "                tokens.append('NEW_LINE')\n",
    "            elif x.type == tokenize.INDENT:\n",
    "                tokens.append('INDENT')\n",
    "            elif x.type == tokenize.DEDENT:\n",
    "                tokens.append('DEDENT')\n",
    "            elif x.type == tokenize.STRING:  # String\n",
    "                s = x.string.strip()\n",
    "                if s.startswith('\"\"\"') or s.startswith(\"'''\"):\n",
    "                    if prev_token is not None and (prev_token == '=' or prev_token == '(' or prev_token == ','):\n",
    "                        tokens.append(x.string)\n",
    "                    continue\n",
    "                tokens.append(x.string)\n",
    "                pass\n",
    "            elif x.string == '\\n':\n",
    "                continue\n",
    "            elif x.type < 57:\n",
    "                tokens.append(x.string)\n",
    "            prev_token = x.string.strip()\n",
    "    except:\n",
    "        return []\n",
    "        pass\n",
    "    return tokens\n",
    "\n",
    "\n",
    "class MultiprocessingEncoder(object):\n",
    "\n",
    "    def __init__(self, model_file):\n",
    "        self.model_file = model_file\n",
    "\n",
    "    def initializer(self):\n",
    "        global sp\n",
    "        sp = spm.SentencePieceProcessor(model_file=self.model_file)\n",
    "\n",
    "    def _encode(self, line):\n",
    "        global sp\n",
    "        return sp.encode(line, out_type=str)\n",
    "\n",
    "    def _decode(self, tokens):\n",
    "        global sp\n",
    "        return sp.decode(tokens)\n",
    "\n",
    "    def encode(self, example):\n",
    "        assert isinstance(example, dict)\n",
    "        assert 'src' in example and 'tgt' in example\n",
    "        if len(example['src']) == 0 :\n",
    "            return None\n",
    "        if len(example['tgt']) == 0 :\n",
    "            return None\n",
    "        src_tokens = self._encode(example['src'])\n",
    "        tgt_tokens = self._encode(example['tgt'])\n",
    "        return {'src': \" \".join(src_tokens), 'tgt': \" \".join(tgt_tokens), 'link': example['link']}\n",
    "\n",
    "\n",
    "def load_data(input_file, src_fields, tgt_field):\n",
    "    data = []\n",
    "    with open(input_file, 'r', encoding='utf-8') as f:\n",
    "        for line in f:\n",
    "            ex = json.loads(line)\n",
    "            assert tgt_field in ex\n",
    "            srcs = []\n",
    "            for sf in src_fields:\n",
    "                assert sf in ex\n",
    "                src = ex[sf]\n",
    "                if isinstance(src, list):\n",
    "                    src = \" \".join(src)\n",
    "                src = src.strip()\n",
    "                if len(src) > 0:\n",
    "                    srcs.append(src)\n",
    "            src = \" <s> \".join(srcs)\n",
    "            tgt = ex[tgt_field]\n",
    "            if isinstance(tgt, list):\n",
    "                tgt = \" \".join(tgt)\n",
    "            tgt = tgt.replace('\\n', ' ').strip()\n",
    "            link = ex['link']\n",
    "            data.append({'src': src, 'tgt': tgt, 'link': link})\n",
    "\n",
    "    return data\n",
    "\n",
    "\n",
    "def process(\n",
    "    model_file, input_file, src_fields, tgt_field, \n",
    "    output_dir, part, pref, src_lang=\"en_XX\", tgt_lang=\"py\", workers=1\n",
    "):\n",
    "    dataset = load_data(input_file, src_fields, tgt_field)\n",
    "    encoder = MultiprocessingEncoder(model_file)\n",
    "    pool = Pool(workers, initializer=encoder.initializer)\n",
    "    processed_dataset = []\n",
    "    with tqdm(total=len(dataset), desc='Processing') as pbar:\n",
    "        for i, ex in enumerate(pool.imap(encoder.encode, dataset, 100)):\n",
    "            pbar.update()\n",
    "            processed_dataset.append(ex)\n",
    "    os.makedirs(output_dir, exist_ok=True)\n",
    "    out_src = os.path.join(output_dir, '{}_{}.spm.{}'.format(pref, part, src_lang))\n",
    "    out_tgt = os.path.join(output_dir, '{}_{}.spm.{}'.format(pref, part, tgt_lang))\n",
    "    out_link = os.path.join(output_dir, '{}.link'.format(part))\n",
    "    with open(out_src, 'w', encoding='utf-8') as src_writer, \\\n",
    "            open(out_tgt, 'w', encoding='utf-8') as tgt_writer, \\\n",
    "            open(out_link, 'w', encoding='utf-8') as link_writer:\n",
    "        for ex in processed_dataset:\n",
    "            if ex is not None:\n",
    "                src_writer.write(ex['src'] + '\\n')\n",
    "                tgt_writer.write(ex['tgt'] + '\\n')\n",
    "                link_writer.write(ex['link'] + '\\n')\n",
    "\n",
    "                \n",
    "# examples.append({\n",
    "#                 'id': example_id,\n",
    "#                 'q': qtitle.strip(),\n",
    "#                 'd': qdesc.strip(),\n",
    "#                 'q_apis': \" \".join(question_apis),\n",
    "#                 \"io\":  re.sub(\"[ \\t\\n]+\", \" \", io),\n",
    "#                 \"apis\": api_seq,\n",
    "#                 'code': codes,\n",
    "#                 'link': e['link']\n",
    "#             })\n",
    "                \n",
    "for i in range(10):\n",
    "    data_dir = f\"PLBART_EXPERIMENT/DATA/part_{i}\"\n",
    "    for part in ['train', 'valid', 'test']:\n",
    "        process(\n",
    "            input_file=os.path.join(data_dir, f\"{part}.data\"),\n",
    "            src_fields=[\"q\"],\n",
    "            tgt_field=\"apis\",\n",
    "            output_dir=data_dir,\n",
    "            pref=f\"query\",\n",
    "            part=part,\n",
    "            model_file=\"PLBART_EXPERIMENT/pretrained/sentencepiece.bpe.model\"\n",
    "        )\n",
    "        \n",
    "        process(\n",
    "            input_file=os.path.join(data_dir, f\"{part}.data\"),\n",
    "            src_fields=[\"q\", \"d\"],\n",
    "            tgt_field=\"apis\",\n",
    "            output_dir=data_dir,\n",
    "            pref=f\"query_desc\",\n",
    "            part=part,\n",
    "            model_file=\"PLBART_EXPERIMENT/pretrained/sentencepiece.bpe.model\"\n",
    "        )\n",
    "        \n",
    "        process(\n",
    "            input_file=os.path.join(data_dir, f\"{part}.data\"),\n",
    "            src_fields=[\"q\", \"q_apis\"],\n",
    "            tgt_field=\"apis\",\n",
    "            output_dir=data_dir,\n",
    "            pref=f\"query_names\",\n",
    "            part=part,\n",
    "            model_file=\"PLBART_EXPERIMENT/pretrained/sentencepiece.bpe.model\"\n",
    "        )\n",
    "        \n",
    "        process(\n",
    "            input_file=os.path.join(data_dir, f\"{part}.data\"),\n",
    "            src_fields=[\"q\", \"d\", \"io\", \"q_apis\"],\n",
    "            tgt_field=\"apis\",\n",
    "            output_dir=data_dir,\n",
    "            pref=f\"query_desc_io_names\",\n",
    "            part=part,\n",
    "            model_file=\"PLBART_EXPERIMENT/pretrained/sentencepiece.bpe.model\"\n",
    "        )"
   ]
  },
  {
   "cell_type": "code",
   "execution_count": null,
   "metadata": {},
   "outputs": [],
   "source": []
  }
 ],
 "metadata": {
  "kernelspec": {
   "display_name": "Python 3",
   "language": "python",
   "name": "python3"
  },
  "language_info": {
   "codemirror_mode": {
    "name": "ipython",
    "version": 3
   },
   "file_extension": ".py",
   "mimetype": "text/x-python",
   "name": "python",
   "nbconvert_exporter": "python",
   "pygments_lexer": "ipython3",
   "version": "3.6.12"
  }
 },
 "nbformat": 4,
 "nbformat_minor": 4
}
