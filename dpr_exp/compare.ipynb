{
 "cells": [
  {
   "cell_type": "code",
   "execution_count": 20,
   "id": "78195fa5",
   "metadata": {},
   "outputs": [],
   "source": [
    "import torch\n"
   ]
  },
  {
   "cell_type": "code",
   "execution_count": 21,
   "id": "c26b373c",
   "metadata": {},
   "outputs": [
    {
     "name": "stdout",
     "output_type": "stream",
     "text": [
      "torch.Size([608, 512]) torch.Size([132, 512]) (608, 132)\n"
     ]
    }
   ],
   "source": [
    "jse, jid, jseg, jattn, jq, jd, js = torch.load(open(\"from_jupyter.pt\", \"rb\"))\n",
    "\n",
    "print(jq.shape, jd.shape, js.shape)"
   ]
  },
  {
   "cell_type": "code",
   "execution_count": 22,
   "id": "4fe2f0bb",
   "metadata": {},
   "outputs": [
    {
     "name": "stdout",
     "output_type": "stream",
     "text": [
      "torch.Size([608, 512]) torch.Size([132, 512]) (608, 132)\n"
     ]
    }
   ],
   "source": [
    "rse, rq, rd, rs = torch.load(open(\"from_class.pt\", \"rb\"))\n",
    "\n",
    "print(rq.shape, rd.shape, rs.shape)"
   ]
  },
  {
   "cell_type": "code",
   "execution_count": 24,
   "id": "092719c5",
   "metadata": {},
   "outputs": [
    {
     "name": "stdout",
     "output_type": "stream",
     "text": [
      "torch.Size([3399, 2])\n"
     ]
    }
   ],
   "source": [
    "print(torch.nonzero(jq-rq).shape)"
   ]
  },
  {
   "cell_type": "code",
   "execution_count": 16,
   "id": "30f04687",
   "metadata": {},
   "outputs": [
    {
     "name": "stdout",
     "output_type": "stream",
     "text": [
      "tensor([[  0,   0],\n",
      "        [  0,   1],\n",
      "        [  0,   2],\n",
      "        ...,\n",
      "        [131, 509],\n",
      "        [131, 510],\n",
      "        [131, 511]])\n"
     ]
    }
   ],
   "source": [
    "print(torch.nonzero(jd-rd))"
   ]
  },
  {
   "cell_type": "code",
   "execution_count": 17,
   "id": "54336bef",
   "metadata": {},
   "outputs": [
    {
     "data": {
      "text/plain": [
       "tensor([], size=(0, 2), dtype=torch.int64)"
      ]
     },
     "execution_count": 17,
     "metadata": {},
     "output_type": "execute_result"
    }
   ],
   "source": [
    "torch.nonzero(rattn.int() - jattn.int())"
   ]
  },
  {
   "cell_type": "code",
   "execution_count": 18,
   "id": "16bf4339",
   "metadata": {},
   "outputs": [
    {
     "data": {
      "text/plain": [
       "tensor([], size=(0, 2), dtype=torch.int64)"
      ]
     },
     "execution_count": 18,
     "metadata": {},
     "output_type": "execute_result"
    }
   ],
   "source": [
    "torch.nonzero(rid.int() - jid.int())"
   ]
  },
  {
   "cell_type": "code",
   "execution_count": 19,
   "id": "0b92ec2f",
   "metadata": {},
   "outputs": [
    {
     "data": {
      "text/plain": [
       "tensor([], size=(0, 2), dtype=torch.int64)"
      ]
     },
     "execution_count": 19,
     "metadata": {},
     "output_type": "execute_result"
    }
   ],
   "source": [
    "torch.nonzero(rseg.int() - jseg.int())"
   ]
  },
  {
   "cell_type": "code",
   "execution_count": null,
   "id": "cb1c0036",
   "metadata": {},
   "outputs": [],
   "source": []
  },
  {
   "cell_type": "code",
   "execution_count": null,
   "id": "095292c6",
   "metadata": {},
   "outputs": [],
   "source": []
  }
 ],
 "metadata": {
  "kernelspec": {
   "display_name": "Python 3",
   "language": "python",
   "name": "python3"
  },
  "language_info": {
   "codemirror_mode": {
    "name": "ipython",
    "version": 3
   },
   "file_extension": ".py",
   "mimetype": "text/x-python",
   "name": "python",
   "nbconvert_exporter": "python",
   "pygments_lexer": "ipython3",
   "version": "3.6.12"
  }
 },
 "nbformat": 4,
 "nbformat_minor": 5
}
